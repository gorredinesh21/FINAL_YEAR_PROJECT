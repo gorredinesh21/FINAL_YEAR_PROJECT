{
 "cells": [
  {
   "cell_type": "code",
   "execution_count": 1,
   "id": "65323e89",
   "metadata": {},
   "outputs": [],
   "source": [
    "import pandas as pd\n",
    "import numpy as np\n",
    "from sklearn.model_selection import StratifiedKFold\n",
    "from xgboost import XGBClassifier\n",
    "from sklearn.metrics import accuracy_score, f1_score, recall_score, precision_score, roc_auc_score\n",
    "\n"
   ]
  },
  {
   "cell_type": "code",
   "execution_count": 2,
   "id": "6f47494e",
   "metadata": {},
   "outputs": [],
   "source": [
    "# Load datasets\n",
    "real_data = pd.read_csv(\"creditcard.csv\")\n",
    "synthetic_data = pd.read_csv(\"smote_synthetic_data.csv\")\n",
    "\n",
    "# Split features and target for real data\n",
    "X_real = real_data.drop(columns=[\"Class\"])\n",
    "y_real = real_data[\"Class\"]\n",
    "\n",
    "# Split features and target for synthetic data\n",
    "X_synthetic = synthetic_data.drop(columns=[\"Class\"])\n",
    "y_synthetic = synthetic_data[\"Class\"]\n"
   ]
  },
  {
   "cell_type": "code",
   "execution_count": 5,
   "id": "c276a8a5",
   "metadata": {},
   "outputs": [
    {
     "name": "stdout",
     "output_type": "stream",
     "text": [
      "            Time         V1         V2        V3        V4        V5  \\\n",
      "0            0.0  -1.359807  -0.072781  2.536347  1.378155 -0.338321   \n",
      "1            0.0   1.191857   0.266151  0.166480  0.448154  0.060018   \n",
      "2            1.0  -1.358354  -1.340163  1.773209  0.379780 -0.503198   \n",
      "3            1.0  -0.966272  -0.185226  1.792993 -0.863291 -0.010309   \n",
      "4            2.0  -1.158233   0.877737  1.548718  0.403034 -0.407193   \n",
      "...          ...        ...        ...       ...       ...       ...   \n",
      "284802  172786.0 -11.881118  10.071785 -9.834783 -2.066656 -5.364473   \n",
      "284803  172787.0  -0.732789  -0.055080  2.035030 -0.738589  0.868229   \n",
      "284804  172788.0   1.919565  -0.301254 -3.249640 -0.557828  2.630515   \n",
      "284805  172788.0  -0.240440   0.530483  0.702510  0.689799 -0.377961   \n",
      "284806  172792.0  -0.533413  -0.189733  0.703337 -0.506271 -0.012546   \n",
      "\n",
      "              V6        V7        V8        V9  ...       V20       V21  \\\n",
      "0       0.462388  0.239599  0.098698  0.363787  ...  0.251412 -0.018307   \n",
      "1      -0.082361 -0.078803  0.085102 -0.255425  ... -0.069083 -0.225775   \n",
      "2       1.800499  0.791461  0.247676 -1.514654  ...  0.524980  0.247998   \n",
      "3       1.247203  0.237609  0.377436 -1.387024  ... -0.208038 -0.108300   \n",
      "4       0.095921  0.592941 -0.270533  0.817739  ...  0.408542 -0.009431   \n",
      "...          ...       ...       ...       ...  ...       ...       ...   \n",
      "284802 -2.606837 -4.918215  7.305334  1.914428  ...  1.475829  0.213454   \n",
      "284803  1.058415  0.024330  0.294869  0.584800  ...  0.059616  0.214205   \n",
      "284804  3.031260 -0.296827  0.708417  0.432454  ...  0.001396  0.232045   \n",
      "284805  0.623708 -0.686180  0.679145  0.392087  ...  0.127434  0.265245   \n",
      "284806 -0.649617  1.577006 -0.414650  0.486180  ...  0.382948  0.261057   \n",
      "\n",
      "             V22       V23       V24       V25       V26       V27       V28  \\\n",
      "0       0.277838 -0.110474  0.066928  0.128539 -0.189115  0.133558 -0.021053   \n",
      "1      -0.638672  0.101288 -0.339846  0.167170  0.125895 -0.008983  0.014724   \n",
      "2       0.771679  0.909412 -0.689281 -0.327642 -0.139097 -0.055353 -0.059752   \n",
      "3       0.005274 -0.190321 -1.175575  0.647376 -0.221929  0.062723  0.061458   \n",
      "4       0.798278 -0.137458  0.141267 -0.206010  0.502292  0.219422  0.215153   \n",
      "...          ...       ...       ...       ...       ...       ...       ...   \n",
      "284802  0.111864  1.014480 -0.509348  1.436807  0.250034  0.943651  0.823731   \n",
      "284803  0.924384  0.012463 -1.016226 -0.606624 -0.395255  0.068472 -0.053527   \n",
      "284804  0.578229 -0.037501  0.640134  0.265745 -0.087371  0.004455 -0.026561   \n",
      "284805  0.800049 -0.163298  0.123205 -0.569159  0.546668  0.108821  0.104533   \n",
      "284806  0.643078  0.376777  0.008797 -0.473649 -0.818267 -0.002415  0.013649   \n",
      "\n",
      "        Amount  \n",
      "0       149.62  \n",
      "1         2.69  \n",
      "2       378.66  \n",
      "3       123.50  \n",
      "4        69.99  \n",
      "...        ...  \n",
      "284802    0.77  \n",
      "284803   24.79  \n",
      "284804   67.88  \n",
      "284805   10.00  \n",
      "284806  217.00  \n",
      "\n",
      "[284807 rows x 30 columns]\n",
      "0         0\n",
      "1         0\n",
      "2         0\n",
      "3         0\n",
      "4         0\n",
      "         ..\n",
      "284802    0\n",
      "284803    0\n",
      "284804    0\n",
      "284805    0\n",
      "284806    0\n",
      "Name: Class, Length: 284807, dtype: int64\n",
      "            Time        V1        V2         V3        V4        V5        V6  \\\n",
      "0      -0.883528 -0.354948  1.817959  -0.793271 -1.575580  0.024972 -0.957837   \n",
      "1       1.402302 -0.288774  0.315595   0.231901  1.419752 -1.236623 -0.120094   \n",
      "2      -1.102839 -0.596996 -1.730481   1.776488 -2.149170 -0.518820  0.182452   \n",
      "3      -2.003900  0.594209 -0.488724   0.457003  0.553798  0.138869  0.268785   \n",
      "4       1.376959 -3.208569  0.547617  -3.904926  1.474847 -0.422821 -1.363861   \n",
      "...          ...       ...       ...        ...       ...       ...       ...   \n",
      "227840 -0.603146 -0.254940  0.649908  -0.038586 -0.654849  0.519962 -0.244469   \n",
      "227841 -1.042897 -1.558746  3.601478  -4.460501  6.912844 -0.302805 -3.230023   \n",
      "227842 -0.911168 -0.734862  0.842608   0.129192  0.615482 -0.427343  0.663612   \n",
      "227843  1.271976  0.408276  0.033486  -0.758083 -0.709290  0.417000 -0.465224   \n",
      "227844 -1.089138 -9.800502  8.360331 -16.721991  4.464133 -6.264146 -1.502175   \n",
      "\n",
      "               V7        V8        V9  ...       V20       V21       V22  \\\n",
      "0        0.627255 -0.125031  0.036220  ... -0.169678 -0.500677 -0.279378   \n",
      "1       -1.793102 -0.144216 -1.655899  ... -0.082542  0.183997  0.620891   \n",
      "2       -0.714150 -0.154674 -1.139165  ...  0.013359  1.506838  0.859989   \n",
      "3        0.154447  0.099173  0.634021  ...  0.269898  0.184566 -0.190132   \n",
      "4       -2.221099  0.431618 -1.000007  ... -0.958226  1.300836  0.819702   \n",
      "...           ...       ...       ...  ...       ...       ...       ...   \n",
      "227840   0.139533  0.459348  0.235900  ...  0.290287 -0.093392 -0.487233   \n",
      "227841  -7.537555  7.600840 -6.258944  ...  1.169853  2.811270 -0.823788   \n",
      "227842  -1.190864  0.187189  0.888098  ...  0.110407  0.232205  0.890081   \n",
      "227843   0.455364 -0.299064 -1.056931  ...  0.563793 -0.185903  1.410850   \n",
      "227844 -12.756006 -0.026293 -5.445701  ...  1.767944 -5.861491 -1.443537   \n",
      "\n",
      "             V23       V24       V25       V26       V27       V28    Amount  \n",
      "0      -1.721760 -0.670488 -0.968647 -0.146770 -0.236223 -0.155516 -0.351409  \n",
      "1       0.878812 -0.190151 -0.258404 -0.391186  1.719826 -0.055688  0.437609  \n",
      "2      -0.240954 -1.563970 -0.402432 -0.094550  0.134685 -1.669288 -0.033886  \n",
      "3       0.479593  0.685942 -0.306024  0.590835 -0.271227  0.215075  1.492459  \n",
      "4       0.235786 -0.507260  0.564851 -0.600585 -1.893719 -0.087113  4.589665  \n",
      "...          ...       ...       ...       ...       ...       ...       ...  \n",
      "227840 -0.261726 -1.345153 -0.459583  0.156058  0.326586 -0.275196 -0.282026  \n",
      "227841  0.993664 -2.905091 -0.532371  1.283849  4.724138  1.022176 -0.348189  \n",
      "227842 -0.234903  0.819820 -0.144268 -0.324557  0.042849  0.105957 -0.119823  \n",
      "227843 -0.135194 -0.201067 -1.632054  1.325961 -0.105486 -0.084290  1.029232  \n",
      "227844 -1.182891 -2.175139  2.735625  1.420908  3.311088 -3.899657 -0.342498  \n",
      "\n",
      "[227845 rows x 30 columns]\n",
      "0         0\n",
      "1         1\n",
      "2         0\n",
      "3         0\n",
      "4         1\n",
      "         ..\n",
      "227840    0\n",
      "227841    1\n",
      "227842    0\n",
      "227843    0\n",
      "227844    1\n",
      "Name: Class, Length: 227845, dtype: int64\n"
     ]
    }
   ],
   "source": [
    "print(X_real)\n",
    "print(y_real)\n",
    "print(X_synthetic)\n",
    "print(y_synthetic)"
   ]
  },
  {
   "cell_type": "code",
   "execution_count": 6,
   "id": "6e1f0a4a",
   "metadata": {},
   "outputs": [],
   "source": [
    "# Define XGBoost model\n",
    "def evaluate_model(X, y, experiment_name):\n",
    "    skf = StratifiedKFold(n_splits=5, shuffle=True, random_state=42)\n",
    "    metrics = []\n",
    "\n",
    "    for fold, (train_idx, test_idx) in enumerate(skf.split(X, y), 1):\n",
    "        print(f\"Running {experiment_name} - Fold {fold}...\")\n",
    "        X_train, X_test = X.iloc[train_idx], X.iloc[test_idx]\n",
    "        y_train, y_test = y.iloc[train_idx], y.iloc[test_idx]\n",
    "\n",
    "        model = XGBClassifier(\n",
    "            scale_pos_weight=len(y_train[y_train == 0]) / len(y_train[y_train == 1]),\n",
    "            use_label_encoder=False,\n",
    "            eval_metric=\"logloss\",\n",
    "            random_state=42\n",
    "        )\n",
    "        model.fit(X_train, y_train)\n",
    "        y_pred = model.predict(X_test)\n",
    "        y_pred_proba = model.predict_proba(X_test)[:, 1]\n",
    "\n",
    "        # Calculate metrics\n",
    "        accuracy = accuracy_score(y_test, y_pred)\n",
    "        f1 = f1_score(y_test, y_pred)\n",
    "        recall = recall_score(y_test, y_pred)\n",
    "        precision = precision_score(y_test, y_pred)\n",
    "        roc_auc = roc_auc_score(y_test, y_pred_proba)\n",
    "\n",
    "        metrics.append({\n",
    "            \"Experiment\": experiment_name,\n",
    "            \"Fold\": fold,\n",
    "            \"Accuracy\": accuracy,\n",
    "            \"F1 Score\": f1,\n",
    "            \"Recall\": recall,\n",
    "            \"Precision\": precision,\n",
    "            \"ROC-AUC\": roc_auc\n",
    "        })\n",
    "\n",
    "    return metrics\n",
    "\n"
   ]
  },
  {
   "cell_type": "code",
   "execution_count": 7,
   "id": "1dfd2a34",
   "metadata": {},
   "outputs": [
    {
     "name": "stdout",
     "output_type": "stream",
     "text": [
      "Experiment 1 for Real Data\n",
      "Running Real Data - Experiment 1 - Fold 1...\n"
     ]
    },
    {
     "name": "stderr",
     "output_type": "stream",
     "text": [
      "c:\\Users\\junnu\\AppData\\Local\\Programs\\Python\\Python312\\Lib\\site-packages\\xgboost\\core.py:158: UserWarning: [19:26:13] WARNING: C:\\buildkite-agent\\builds\\buildkite-windows-cpu-autoscaling-group-i-08cbc0333d8d4aae1-1\\xgboost\\xgboost-ci-windows\\src\\learner.cc:740: \n",
      "Parameters: { \"use_label_encoder\" } are not used.\n",
      "\n",
      "  warnings.warn(smsg, UserWarning)\n"
     ]
    },
    {
     "name": "stdout",
     "output_type": "stream",
     "text": [
      "Running Real Data - Experiment 1 - Fold 2...\n"
     ]
    },
    {
     "name": "stderr",
     "output_type": "stream",
     "text": [
      "c:\\Users\\junnu\\AppData\\Local\\Programs\\Python\\Python312\\Lib\\site-packages\\xgboost\\core.py:158: UserWarning: [19:26:16] WARNING: C:\\buildkite-agent\\builds\\buildkite-windows-cpu-autoscaling-group-i-08cbc0333d8d4aae1-1\\xgboost\\xgboost-ci-windows\\src\\learner.cc:740: \n",
      "Parameters: { \"use_label_encoder\" } are not used.\n",
      "\n",
      "  warnings.warn(smsg, UserWarning)\n"
     ]
    },
    {
     "name": "stdout",
     "output_type": "stream",
     "text": [
      "Running Real Data - Experiment 1 - Fold 3...\n"
     ]
    },
    {
     "name": "stderr",
     "output_type": "stream",
     "text": [
      "c:\\Users\\junnu\\AppData\\Local\\Programs\\Python\\Python312\\Lib\\site-packages\\xgboost\\core.py:158: UserWarning: [19:26:19] WARNING: C:\\buildkite-agent\\builds\\buildkite-windows-cpu-autoscaling-group-i-08cbc0333d8d4aae1-1\\xgboost\\xgboost-ci-windows\\src\\learner.cc:740: \n",
      "Parameters: { \"use_label_encoder\" } are not used.\n",
      "\n",
      "  warnings.warn(smsg, UserWarning)\n"
     ]
    },
    {
     "name": "stdout",
     "output_type": "stream",
     "text": [
      "Running Real Data - Experiment 1 - Fold 4...\n"
     ]
    },
    {
     "name": "stderr",
     "output_type": "stream",
     "text": [
      "c:\\Users\\junnu\\AppData\\Local\\Programs\\Python\\Python312\\Lib\\site-packages\\xgboost\\core.py:158: UserWarning: [19:26:22] WARNING: C:\\buildkite-agent\\builds\\buildkite-windows-cpu-autoscaling-group-i-08cbc0333d8d4aae1-1\\xgboost\\xgboost-ci-windows\\src\\learner.cc:740: \n",
      "Parameters: { \"use_label_encoder\" } are not used.\n",
      "\n",
      "  warnings.warn(smsg, UserWarning)\n"
     ]
    },
    {
     "name": "stdout",
     "output_type": "stream",
     "text": [
      "Running Real Data - Experiment 1 - Fold 5...\n"
     ]
    },
    {
     "name": "stderr",
     "output_type": "stream",
     "text": [
      "c:\\Users\\junnu\\AppData\\Local\\Programs\\Python\\Python312\\Lib\\site-packages\\xgboost\\core.py:158: UserWarning: [19:26:25] WARNING: C:\\buildkite-agent\\builds\\buildkite-windows-cpu-autoscaling-group-i-08cbc0333d8d4aae1-1\\xgboost\\xgboost-ci-windows\\src\\learner.cc:740: \n",
      "Parameters: { \"use_label_encoder\" } are not used.\n",
      "\n",
      "  warnings.warn(smsg, UserWarning)\n"
     ]
    },
    {
     "name": "stdout",
     "output_type": "stream",
     "text": [
      "Experiment 1 for Synthetic Data\n",
      "Running Synthetic Data - Experiment 1 - Fold 1...\n"
     ]
    },
    {
     "name": "stderr",
     "output_type": "stream",
     "text": [
      "c:\\Users\\junnu\\AppData\\Local\\Programs\\Python\\Python312\\Lib\\site-packages\\xgboost\\core.py:158: UserWarning: [19:26:27] WARNING: C:\\buildkite-agent\\builds\\buildkite-windows-cpu-autoscaling-group-i-08cbc0333d8d4aae1-1\\xgboost\\xgboost-ci-windows\\src\\learner.cc:740: \n",
      "Parameters: { \"use_label_encoder\" } are not used.\n",
      "\n",
      "  warnings.warn(smsg, UserWarning)\n"
     ]
    },
    {
     "name": "stdout",
     "output_type": "stream",
     "text": [
      "Running Synthetic Data - Experiment 1 - Fold 2...\n"
     ]
    },
    {
     "name": "stderr",
     "output_type": "stream",
     "text": [
      "c:\\Users\\junnu\\AppData\\Local\\Programs\\Python\\Python312\\Lib\\site-packages\\xgboost\\core.py:158: UserWarning: [19:26:30] WARNING: C:\\buildkite-agent\\builds\\buildkite-windows-cpu-autoscaling-group-i-08cbc0333d8d4aae1-1\\xgboost\\xgboost-ci-windows\\src\\learner.cc:740: \n",
      "Parameters: { \"use_label_encoder\" } are not used.\n",
      "\n",
      "  warnings.warn(smsg, UserWarning)\n"
     ]
    },
    {
     "name": "stdout",
     "output_type": "stream",
     "text": [
      "Running Synthetic Data - Experiment 1 - Fold 3...\n"
     ]
    },
    {
     "name": "stderr",
     "output_type": "stream",
     "text": [
      "c:\\Users\\junnu\\AppData\\Local\\Programs\\Python\\Python312\\Lib\\site-packages\\xgboost\\core.py:158: UserWarning: [19:26:33] WARNING: C:\\buildkite-agent\\builds\\buildkite-windows-cpu-autoscaling-group-i-08cbc0333d8d4aae1-1\\xgboost\\xgboost-ci-windows\\src\\learner.cc:740: \n",
      "Parameters: { \"use_label_encoder\" } are not used.\n",
      "\n",
      "  warnings.warn(smsg, UserWarning)\n"
     ]
    },
    {
     "name": "stdout",
     "output_type": "stream",
     "text": [
      "Running Synthetic Data - Experiment 1 - Fold 4...\n"
     ]
    },
    {
     "name": "stderr",
     "output_type": "stream",
     "text": [
      "c:\\Users\\junnu\\AppData\\Local\\Programs\\Python\\Python312\\Lib\\site-packages\\xgboost\\core.py:158: UserWarning: [19:26:36] WARNING: C:\\buildkite-agent\\builds\\buildkite-windows-cpu-autoscaling-group-i-08cbc0333d8d4aae1-1\\xgboost\\xgboost-ci-windows\\src\\learner.cc:740: \n",
      "Parameters: { \"use_label_encoder\" } are not used.\n",
      "\n",
      "  warnings.warn(smsg, UserWarning)\n"
     ]
    },
    {
     "name": "stdout",
     "output_type": "stream",
     "text": [
      "Running Synthetic Data - Experiment 1 - Fold 5...\n"
     ]
    },
    {
     "name": "stderr",
     "output_type": "stream",
     "text": [
      "c:\\Users\\junnu\\AppData\\Local\\Programs\\Python\\Python312\\Lib\\site-packages\\xgboost\\core.py:158: UserWarning: [19:26:38] WARNING: C:\\buildkite-agent\\builds\\buildkite-windows-cpu-autoscaling-group-i-08cbc0333d8d4aae1-1\\xgboost\\xgboost-ci-windows\\src\\learner.cc:740: \n",
      "Parameters: { \"use_label_encoder\" } are not used.\n",
      "\n",
      "  warnings.warn(smsg, UserWarning)\n"
     ]
    },
    {
     "name": "stdout",
     "output_type": "stream",
     "text": [
      "Experiment 2 for Real Data\n",
      "Running Real Data - Experiment 2 - Fold 1...\n"
     ]
    },
    {
     "name": "stderr",
     "output_type": "stream",
     "text": [
      "c:\\Users\\junnu\\AppData\\Local\\Programs\\Python\\Python312\\Lib\\site-packages\\xgboost\\core.py:158: UserWarning: [19:26:41] WARNING: C:\\buildkite-agent\\builds\\buildkite-windows-cpu-autoscaling-group-i-08cbc0333d8d4aae1-1\\xgboost\\xgboost-ci-windows\\src\\learner.cc:740: \n",
      "Parameters: { \"use_label_encoder\" } are not used.\n",
      "\n",
      "  warnings.warn(smsg, UserWarning)\n"
     ]
    },
    {
     "name": "stdout",
     "output_type": "stream",
     "text": [
      "Running Real Data - Experiment 2 - Fold 2...\n"
     ]
    },
    {
     "name": "stderr",
     "output_type": "stream",
     "text": [
      "c:\\Users\\junnu\\AppData\\Local\\Programs\\Python\\Python312\\Lib\\site-packages\\xgboost\\core.py:158: UserWarning: [19:26:44] WARNING: C:\\buildkite-agent\\builds\\buildkite-windows-cpu-autoscaling-group-i-08cbc0333d8d4aae1-1\\xgboost\\xgboost-ci-windows\\src\\learner.cc:740: \n",
      "Parameters: { \"use_label_encoder\" } are not used.\n",
      "\n",
      "  warnings.warn(smsg, UserWarning)\n"
     ]
    },
    {
     "name": "stdout",
     "output_type": "stream",
     "text": [
      "Running Real Data - Experiment 2 - Fold 3...\n"
     ]
    },
    {
     "name": "stderr",
     "output_type": "stream",
     "text": [
      "c:\\Users\\junnu\\AppData\\Local\\Programs\\Python\\Python312\\Lib\\site-packages\\xgboost\\core.py:158: UserWarning: [19:26:47] WARNING: C:\\buildkite-agent\\builds\\buildkite-windows-cpu-autoscaling-group-i-08cbc0333d8d4aae1-1\\xgboost\\xgboost-ci-windows\\src\\learner.cc:740: \n",
      "Parameters: { \"use_label_encoder\" } are not used.\n",
      "\n",
      "  warnings.warn(smsg, UserWarning)\n"
     ]
    },
    {
     "name": "stdout",
     "output_type": "stream",
     "text": [
      "Running Real Data - Experiment 2 - Fold 4...\n"
     ]
    },
    {
     "name": "stderr",
     "output_type": "stream",
     "text": [
      "c:\\Users\\junnu\\AppData\\Local\\Programs\\Python\\Python312\\Lib\\site-packages\\xgboost\\core.py:158: UserWarning: [19:26:50] WARNING: C:\\buildkite-agent\\builds\\buildkite-windows-cpu-autoscaling-group-i-08cbc0333d8d4aae1-1\\xgboost\\xgboost-ci-windows\\src\\learner.cc:740: \n",
      "Parameters: { \"use_label_encoder\" } are not used.\n",
      "\n",
      "  warnings.warn(smsg, UserWarning)\n"
     ]
    },
    {
     "name": "stdout",
     "output_type": "stream",
     "text": [
      "Running Real Data - Experiment 2 - Fold 5...\n"
     ]
    },
    {
     "name": "stderr",
     "output_type": "stream",
     "text": [
      "c:\\Users\\junnu\\AppData\\Local\\Programs\\Python\\Python312\\Lib\\site-packages\\xgboost\\core.py:158: UserWarning: [19:26:53] WARNING: C:\\buildkite-agent\\builds\\buildkite-windows-cpu-autoscaling-group-i-08cbc0333d8d4aae1-1\\xgboost\\xgboost-ci-windows\\src\\learner.cc:740: \n",
      "Parameters: { \"use_label_encoder\" } are not used.\n",
      "\n",
      "  warnings.warn(smsg, UserWarning)\n"
     ]
    },
    {
     "name": "stdout",
     "output_type": "stream",
     "text": [
      "Experiment 2 for Synthetic Data\n",
      "Running Synthetic Data - Experiment 2 - Fold 1...\n"
     ]
    },
    {
     "name": "stderr",
     "output_type": "stream",
     "text": [
      "c:\\Users\\junnu\\AppData\\Local\\Programs\\Python\\Python312\\Lib\\site-packages\\xgboost\\core.py:158: UserWarning: [19:26:55] WARNING: C:\\buildkite-agent\\builds\\buildkite-windows-cpu-autoscaling-group-i-08cbc0333d8d4aae1-1\\xgboost\\xgboost-ci-windows\\src\\learner.cc:740: \n",
      "Parameters: { \"use_label_encoder\" } are not used.\n",
      "\n",
      "  warnings.warn(smsg, UserWarning)\n"
     ]
    },
    {
     "name": "stdout",
     "output_type": "stream",
     "text": [
      "Running Synthetic Data - Experiment 2 - Fold 2...\n"
     ]
    },
    {
     "name": "stderr",
     "output_type": "stream",
     "text": [
      "c:\\Users\\junnu\\AppData\\Local\\Programs\\Python\\Python312\\Lib\\site-packages\\xgboost\\core.py:158: UserWarning: [19:26:58] WARNING: C:\\buildkite-agent\\builds\\buildkite-windows-cpu-autoscaling-group-i-08cbc0333d8d4aae1-1\\xgboost\\xgboost-ci-windows\\src\\learner.cc:740: \n",
      "Parameters: { \"use_label_encoder\" } are not used.\n",
      "\n",
      "  warnings.warn(smsg, UserWarning)\n"
     ]
    },
    {
     "name": "stdout",
     "output_type": "stream",
     "text": [
      "Running Synthetic Data - Experiment 2 - Fold 3...\n"
     ]
    },
    {
     "name": "stderr",
     "output_type": "stream",
     "text": [
      "c:\\Users\\junnu\\AppData\\Local\\Programs\\Python\\Python312\\Lib\\site-packages\\xgboost\\core.py:158: UserWarning: [19:27:01] WARNING: C:\\buildkite-agent\\builds\\buildkite-windows-cpu-autoscaling-group-i-08cbc0333d8d4aae1-1\\xgboost\\xgboost-ci-windows\\src\\learner.cc:740: \n",
      "Parameters: { \"use_label_encoder\" } are not used.\n",
      "\n",
      "  warnings.warn(smsg, UserWarning)\n"
     ]
    },
    {
     "name": "stdout",
     "output_type": "stream",
     "text": [
      "Running Synthetic Data - Experiment 2 - Fold 4...\n"
     ]
    },
    {
     "name": "stderr",
     "output_type": "stream",
     "text": [
      "c:\\Users\\junnu\\AppData\\Local\\Programs\\Python\\Python312\\Lib\\site-packages\\xgboost\\core.py:158: UserWarning: [19:27:03] WARNING: C:\\buildkite-agent\\builds\\buildkite-windows-cpu-autoscaling-group-i-08cbc0333d8d4aae1-1\\xgboost\\xgboost-ci-windows\\src\\learner.cc:740: \n",
      "Parameters: { \"use_label_encoder\" } are not used.\n",
      "\n",
      "  warnings.warn(smsg, UserWarning)\n"
     ]
    },
    {
     "name": "stdout",
     "output_type": "stream",
     "text": [
      "Running Synthetic Data - Experiment 2 - Fold 5...\n"
     ]
    },
    {
     "name": "stderr",
     "output_type": "stream",
     "text": [
      "c:\\Users\\junnu\\AppData\\Local\\Programs\\Python\\Python312\\Lib\\site-packages\\xgboost\\core.py:158: UserWarning: [19:27:06] WARNING: C:\\buildkite-agent\\builds\\buildkite-windows-cpu-autoscaling-group-i-08cbc0333d8d4aae1-1\\xgboost\\xgboost-ci-windows\\src\\learner.cc:740: \n",
      "Parameters: { \"use_label_encoder\" } are not used.\n",
      "\n",
      "  warnings.warn(smsg, UserWarning)\n"
     ]
    },
    {
     "name": "stdout",
     "output_type": "stream",
     "text": [
      "Experiment 3 for Real Data\n",
      "Running Real Data - Experiment 3 - Fold 1...\n"
     ]
    },
    {
     "name": "stderr",
     "output_type": "stream",
     "text": [
      "c:\\Users\\junnu\\AppData\\Local\\Programs\\Python\\Python312\\Lib\\site-packages\\xgboost\\core.py:158: UserWarning: [19:27:09] WARNING: C:\\buildkite-agent\\builds\\buildkite-windows-cpu-autoscaling-group-i-08cbc0333d8d4aae1-1\\xgboost\\xgboost-ci-windows\\src\\learner.cc:740: \n",
      "Parameters: { \"use_label_encoder\" } are not used.\n",
      "\n",
      "  warnings.warn(smsg, UserWarning)\n"
     ]
    },
    {
     "name": "stdout",
     "output_type": "stream",
     "text": [
      "Running Real Data - Experiment 3 - Fold 2...\n"
     ]
    },
    {
     "name": "stderr",
     "output_type": "stream",
     "text": [
      "c:\\Users\\junnu\\AppData\\Local\\Programs\\Python\\Python312\\Lib\\site-packages\\xgboost\\core.py:158: UserWarning: [19:27:11] WARNING: C:\\buildkite-agent\\builds\\buildkite-windows-cpu-autoscaling-group-i-08cbc0333d8d4aae1-1\\xgboost\\xgboost-ci-windows\\src\\learner.cc:740: \n",
      "Parameters: { \"use_label_encoder\" } are not used.\n",
      "\n",
      "  warnings.warn(smsg, UserWarning)\n"
     ]
    },
    {
     "name": "stdout",
     "output_type": "stream",
     "text": [
      "Running Real Data - Experiment 3 - Fold 3...\n"
     ]
    },
    {
     "name": "stderr",
     "output_type": "stream",
     "text": [
      "c:\\Users\\junnu\\AppData\\Local\\Programs\\Python\\Python312\\Lib\\site-packages\\xgboost\\core.py:158: UserWarning: [19:27:14] WARNING: C:\\buildkite-agent\\builds\\buildkite-windows-cpu-autoscaling-group-i-08cbc0333d8d4aae1-1\\xgboost\\xgboost-ci-windows\\src\\learner.cc:740: \n",
      "Parameters: { \"use_label_encoder\" } are not used.\n",
      "\n",
      "  warnings.warn(smsg, UserWarning)\n"
     ]
    },
    {
     "name": "stdout",
     "output_type": "stream",
     "text": [
      "Running Real Data - Experiment 3 - Fold 4...\n"
     ]
    },
    {
     "name": "stderr",
     "output_type": "stream",
     "text": [
      "c:\\Users\\junnu\\AppData\\Local\\Programs\\Python\\Python312\\Lib\\site-packages\\xgboost\\core.py:158: UserWarning: [19:27:18] WARNING: C:\\buildkite-agent\\builds\\buildkite-windows-cpu-autoscaling-group-i-08cbc0333d8d4aae1-1\\xgboost\\xgboost-ci-windows\\src\\learner.cc:740: \n",
      "Parameters: { \"use_label_encoder\" } are not used.\n",
      "\n",
      "  warnings.warn(smsg, UserWarning)\n"
     ]
    },
    {
     "name": "stdout",
     "output_type": "stream",
     "text": [
      "Running Real Data - Experiment 3 - Fold 5...\n"
     ]
    },
    {
     "name": "stderr",
     "output_type": "stream",
     "text": [
      "c:\\Users\\junnu\\AppData\\Local\\Programs\\Python\\Python312\\Lib\\site-packages\\xgboost\\core.py:158: UserWarning: [19:27:21] WARNING: C:\\buildkite-agent\\builds\\buildkite-windows-cpu-autoscaling-group-i-08cbc0333d8d4aae1-1\\xgboost\\xgboost-ci-windows\\src\\learner.cc:740: \n",
      "Parameters: { \"use_label_encoder\" } are not used.\n",
      "\n",
      "  warnings.warn(smsg, UserWarning)\n"
     ]
    },
    {
     "name": "stdout",
     "output_type": "stream",
     "text": [
      "Experiment 3 for Synthetic Data\n",
      "Running Synthetic Data - Experiment 3 - Fold 1...\n"
     ]
    },
    {
     "name": "stderr",
     "output_type": "stream",
     "text": [
      "c:\\Users\\junnu\\AppData\\Local\\Programs\\Python\\Python312\\Lib\\site-packages\\xgboost\\core.py:158: UserWarning: [19:27:24] WARNING: C:\\buildkite-agent\\builds\\buildkite-windows-cpu-autoscaling-group-i-08cbc0333d8d4aae1-1\\xgboost\\xgboost-ci-windows\\src\\learner.cc:740: \n",
      "Parameters: { \"use_label_encoder\" } are not used.\n",
      "\n",
      "  warnings.warn(smsg, UserWarning)\n"
     ]
    },
    {
     "name": "stdout",
     "output_type": "stream",
     "text": [
      "Running Synthetic Data - Experiment 3 - Fold 2...\n"
     ]
    },
    {
     "name": "stderr",
     "output_type": "stream",
     "text": [
      "c:\\Users\\junnu\\AppData\\Local\\Programs\\Python\\Python312\\Lib\\site-packages\\xgboost\\core.py:158: UserWarning: [19:27:27] WARNING: C:\\buildkite-agent\\builds\\buildkite-windows-cpu-autoscaling-group-i-08cbc0333d8d4aae1-1\\xgboost\\xgboost-ci-windows\\src\\learner.cc:740: \n",
      "Parameters: { \"use_label_encoder\" } are not used.\n",
      "\n",
      "  warnings.warn(smsg, UserWarning)\n"
     ]
    },
    {
     "name": "stdout",
     "output_type": "stream",
     "text": [
      "Running Synthetic Data - Experiment 3 - Fold 3...\n"
     ]
    },
    {
     "name": "stderr",
     "output_type": "stream",
     "text": [
      "c:\\Users\\junnu\\AppData\\Local\\Programs\\Python\\Python312\\Lib\\site-packages\\xgboost\\core.py:158: UserWarning: [19:27:31] WARNING: C:\\buildkite-agent\\builds\\buildkite-windows-cpu-autoscaling-group-i-08cbc0333d8d4aae1-1\\xgboost\\xgboost-ci-windows\\src\\learner.cc:740: \n",
      "Parameters: { \"use_label_encoder\" } are not used.\n",
      "\n",
      "  warnings.warn(smsg, UserWarning)\n"
     ]
    },
    {
     "name": "stdout",
     "output_type": "stream",
     "text": [
      "Running Synthetic Data - Experiment 3 - Fold 4...\n"
     ]
    },
    {
     "name": "stderr",
     "output_type": "stream",
     "text": [
      "c:\\Users\\junnu\\AppData\\Local\\Programs\\Python\\Python312\\Lib\\site-packages\\xgboost\\core.py:158: UserWarning: [19:27:34] WARNING: C:\\buildkite-agent\\builds\\buildkite-windows-cpu-autoscaling-group-i-08cbc0333d8d4aae1-1\\xgboost\\xgboost-ci-windows\\src\\learner.cc:740: \n",
      "Parameters: { \"use_label_encoder\" } are not used.\n",
      "\n",
      "  warnings.warn(smsg, UserWarning)\n"
     ]
    },
    {
     "name": "stdout",
     "output_type": "stream",
     "text": [
      "Running Synthetic Data - Experiment 3 - Fold 5...\n"
     ]
    },
    {
     "name": "stderr",
     "output_type": "stream",
     "text": [
      "c:\\Users\\junnu\\AppData\\Local\\Programs\\Python\\Python312\\Lib\\site-packages\\xgboost\\core.py:158: UserWarning: [19:27:38] WARNING: C:\\buildkite-agent\\builds\\buildkite-windows-cpu-autoscaling-group-i-08cbc0333d8d4aae1-1\\xgboost\\xgboost-ci-windows\\src\\learner.cc:740: \n",
      "Parameters: { \"use_label_encoder\" } are not used.\n",
      "\n",
      "  warnings.warn(smsg, UserWarning)\n"
     ]
    },
    {
     "name": "stdout",
     "output_type": "stream",
     "text": [
      "Experiment 4 for Real Data\n",
      "Running Real Data - Experiment 4 - Fold 1...\n"
     ]
    },
    {
     "name": "stderr",
     "output_type": "stream",
     "text": [
      "c:\\Users\\junnu\\AppData\\Local\\Programs\\Python\\Python312\\Lib\\site-packages\\xgboost\\core.py:158: UserWarning: [19:27:42] WARNING: C:\\buildkite-agent\\builds\\buildkite-windows-cpu-autoscaling-group-i-08cbc0333d8d4aae1-1\\xgboost\\xgboost-ci-windows\\src\\learner.cc:740: \n",
      "Parameters: { \"use_label_encoder\" } are not used.\n",
      "\n",
      "  warnings.warn(smsg, UserWarning)\n"
     ]
    },
    {
     "name": "stdout",
     "output_type": "stream",
     "text": [
      "Running Real Data - Experiment 4 - Fold 2...\n"
     ]
    },
    {
     "name": "stderr",
     "output_type": "stream",
     "text": [
      "c:\\Users\\junnu\\AppData\\Local\\Programs\\Python\\Python312\\Lib\\site-packages\\xgboost\\core.py:158: UserWarning: [19:27:46] WARNING: C:\\buildkite-agent\\builds\\buildkite-windows-cpu-autoscaling-group-i-08cbc0333d8d4aae1-1\\xgboost\\xgboost-ci-windows\\src\\learner.cc:740: \n",
      "Parameters: { \"use_label_encoder\" } are not used.\n",
      "\n",
      "  warnings.warn(smsg, UserWarning)\n"
     ]
    },
    {
     "name": "stdout",
     "output_type": "stream",
     "text": [
      "Running Real Data - Experiment 4 - Fold 3...\n"
     ]
    },
    {
     "name": "stderr",
     "output_type": "stream",
     "text": [
      "c:\\Users\\junnu\\AppData\\Local\\Programs\\Python\\Python312\\Lib\\site-packages\\xgboost\\core.py:158: UserWarning: [19:27:50] WARNING: C:\\buildkite-agent\\builds\\buildkite-windows-cpu-autoscaling-group-i-08cbc0333d8d4aae1-1\\xgboost\\xgboost-ci-windows\\src\\learner.cc:740: \n",
      "Parameters: { \"use_label_encoder\" } are not used.\n",
      "\n",
      "  warnings.warn(smsg, UserWarning)\n"
     ]
    },
    {
     "name": "stdout",
     "output_type": "stream",
     "text": [
      "Running Real Data - Experiment 4 - Fold 4...\n"
     ]
    },
    {
     "name": "stderr",
     "output_type": "stream",
     "text": [
      "c:\\Users\\junnu\\AppData\\Local\\Programs\\Python\\Python312\\Lib\\site-packages\\xgboost\\core.py:158: UserWarning: [19:27:54] WARNING: C:\\buildkite-agent\\builds\\buildkite-windows-cpu-autoscaling-group-i-08cbc0333d8d4aae1-1\\xgboost\\xgboost-ci-windows\\src\\learner.cc:740: \n",
      "Parameters: { \"use_label_encoder\" } are not used.\n",
      "\n",
      "  warnings.warn(smsg, UserWarning)\n"
     ]
    },
    {
     "name": "stdout",
     "output_type": "stream",
     "text": [
      "Running Real Data - Experiment 4 - Fold 5...\n"
     ]
    },
    {
     "name": "stderr",
     "output_type": "stream",
     "text": [
      "c:\\Users\\junnu\\AppData\\Local\\Programs\\Python\\Python312\\Lib\\site-packages\\xgboost\\core.py:158: UserWarning: [19:27:58] WARNING: C:\\buildkite-agent\\builds\\buildkite-windows-cpu-autoscaling-group-i-08cbc0333d8d4aae1-1\\xgboost\\xgboost-ci-windows\\src\\learner.cc:740: \n",
      "Parameters: { \"use_label_encoder\" } are not used.\n",
      "\n",
      "  warnings.warn(smsg, UserWarning)\n"
     ]
    },
    {
     "name": "stdout",
     "output_type": "stream",
     "text": [
      "Experiment 4 for Synthetic Data\n",
      "Running Synthetic Data - Experiment 4 - Fold 1...\n"
     ]
    },
    {
     "name": "stderr",
     "output_type": "stream",
     "text": [
      "c:\\Users\\junnu\\AppData\\Local\\Programs\\Python\\Python312\\Lib\\site-packages\\xgboost\\core.py:158: UserWarning: [19:28:01] WARNING: C:\\buildkite-agent\\builds\\buildkite-windows-cpu-autoscaling-group-i-08cbc0333d8d4aae1-1\\xgboost\\xgboost-ci-windows\\src\\learner.cc:740: \n",
      "Parameters: { \"use_label_encoder\" } are not used.\n",
      "\n",
      "  warnings.warn(smsg, UserWarning)\n"
     ]
    },
    {
     "name": "stdout",
     "output_type": "stream",
     "text": [
      "Running Synthetic Data - Experiment 4 - Fold 2...\n"
     ]
    },
    {
     "name": "stderr",
     "output_type": "stream",
     "text": [
      "c:\\Users\\junnu\\AppData\\Local\\Programs\\Python\\Python312\\Lib\\site-packages\\xgboost\\core.py:158: UserWarning: [19:28:05] WARNING: C:\\buildkite-agent\\builds\\buildkite-windows-cpu-autoscaling-group-i-08cbc0333d8d4aae1-1\\xgboost\\xgboost-ci-windows\\src\\learner.cc:740: \n",
      "Parameters: { \"use_label_encoder\" } are not used.\n",
      "\n",
      "  warnings.warn(smsg, UserWarning)\n"
     ]
    },
    {
     "name": "stdout",
     "output_type": "stream",
     "text": [
      "Running Synthetic Data - Experiment 4 - Fold 3...\n"
     ]
    },
    {
     "name": "stderr",
     "output_type": "stream",
     "text": [
      "c:\\Users\\junnu\\AppData\\Local\\Programs\\Python\\Python312\\Lib\\site-packages\\xgboost\\core.py:158: UserWarning: [19:28:09] WARNING: C:\\buildkite-agent\\builds\\buildkite-windows-cpu-autoscaling-group-i-08cbc0333d8d4aae1-1\\xgboost\\xgboost-ci-windows\\src\\learner.cc:740: \n",
      "Parameters: { \"use_label_encoder\" } are not used.\n",
      "\n",
      "  warnings.warn(smsg, UserWarning)\n"
     ]
    },
    {
     "name": "stdout",
     "output_type": "stream",
     "text": [
      "Running Synthetic Data - Experiment 4 - Fold 4...\n"
     ]
    },
    {
     "name": "stderr",
     "output_type": "stream",
     "text": [
      "c:\\Users\\junnu\\AppData\\Local\\Programs\\Python\\Python312\\Lib\\site-packages\\xgboost\\core.py:158: UserWarning: [19:28:13] WARNING: C:\\buildkite-agent\\builds\\buildkite-windows-cpu-autoscaling-group-i-08cbc0333d8d4aae1-1\\xgboost\\xgboost-ci-windows\\src\\learner.cc:740: \n",
      "Parameters: { \"use_label_encoder\" } are not used.\n",
      "\n",
      "  warnings.warn(smsg, UserWarning)\n"
     ]
    },
    {
     "name": "stdout",
     "output_type": "stream",
     "text": [
      "Running Synthetic Data - Experiment 4 - Fold 5...\n"
     ]
    },
    {
     "name": "stderr",
     "output_type": "stream",
     "text": [
      "c:\\Users\\junnu\\AppData\\Local\\Programs\\Python\\Python312\\Lib\\site-packages\\xgboost\\core.py:158: UserWarning: [19:28:16] WARNING: C:\\buildkite-agent\\builds\\buildkite-windows-cpu-autoscaling-group-i-08cbc0333d8d4aae1-1\\xgboost\\xgboost-ci-windows\\src\\learner.cc:740: \n",
      "Parameters: { \"use_label_encoder\" } are not used.\n",
      "\n",
      "  warnings.warn(smsg, UserWarning)\n"
     ]
    },
    {
     "name": "stdout",
     "output_type": "stream",
     "text": [
      "Experiment 5 for Real Data\n",
      "Running Real Data - Experiment 5 - Fold 1...\n"
     ]
    },
    {
     "name": "stderr",
     "output_type": "stream",
     "text": [
      "c:\\Users\\junnu\\AppData\\Local\\Programs\\Python\\Python312\\Lib\\site-packages\\xgboost\\core.py:158: UserWarning: [19:28:20] WARNING: C:\\buildkite-agent\\builds\\buildkite-windows-cpu-autoscaling-group-i-08cbc0333d8d4aae1-1\\xgboost\\xgboost-ci-windows\\src\\learner.cc:740: \n",
      "Parameters: { \"use_label_encoder\" } are not used.\n",
      "\n",
      "  warnings.warn(smsg, UserWarning)\n"
     ]
    },
    {
     "name": "stdout",
     "output_type": "stream",
     "text": [
      "Running Real Data - Experiment 5 - Fold 2...\n"
     ]
    },
    {
     "name": "stderr",
     "output_type": "stream",
     "text": [
      "c:\\Users\\junnu\\AppData\\Local\\Programs\\Python\\Python312\\Lib\\site-packages\\xgboost\\core.py:158: UserWarning: [19:28:24] WARNING: C:\\buildkite-agent\\builds\\buildkite-windows-cpu-autoscaling-group-i-08cbc0333d8d4aae1-1\\xgboost\\xgboost-ci-windows\\src\\learner.cc:740: \n",
      "Parameters: { \"use_label_encoder\" } are not used.\n",
      "\n",
      "  warnings.warn(smsg, UserWarning)\n"
     ]
    },
    {
     "name": "stdout",
     "output_type": "stream",
     "text": [
      "Running Real Data - Experiment 5 - Fold 3...\n"
     ]
    },
    {
     "name": "stderr",
     "output_type": "stream",
     "text": [
      "c:\\Users\\junnu\\AppData\\Local\\Programs\\Python\\Python312\\Lib\\site-packages\\xgboost\\core.py:158: UserWarning: [19:28:29] WARNING: C:\\buildkite-agent\\builds\\buildkite-windows-cpu-autoscaling-group-i-08cbc0333d8d4aae1-1\\xgboost\\xgboost-ci-windows\\src\\learner.cc:740: \n",
      "Parameters: { \"use_label_encoder\" } are not used.\n",
      "\n",
      "  warnings.warn(smsg, UserWarning)\n"
     ]
    },
    {
     "name": "stdout",
     "output_type": "stream",
     "text": [
      "Running Real Data - Experiment 5 - Fold 4...\n"
     ]
    },
    {
     "name": "stderr",
     "output_type": "stream",
     "text": [
      "c:\\Users\\junnu\\AppData\\Local\\Programs\\Python\\Python312\\Lib\\site-packages\\xgboost\\core.py:158: UserWarning: [19:28:34] WARNING: C:\\buildkite-agent\\builds\\buildkite-windows-cpu-autoscaling-group-i-08cbc0333d8d4aae1-1\\xgboost\\xgboost-ci-windows\\src\\learner.cc:740: \n",
      "Parameters: { \"use_label_encoder\" } are not used.\n",
      "\n",
      "  warnings.warn(smsg, UserWarning)\n"
     ]
    },
    {
     "name": "stdout",
     "output_type": "stream",
     "text": [
      "Running Real Data - Experiment 5 - Fold 5...\n"
     ]
    },
    {
     "name": "stderr",
     "output_type": "stream",
     "text": [
      "c:\\Users\\junnu\\AppData\\Local\\Programs\\Python\\Python312\\Lib\\site-packages\\xgboost\\core.py:158: UserWarning: [19:28:38] WARNING: C:\\buildkite-agent\\builds\\buildkite-windows-cpu-autoscaling-group-i-08cbc0333d8d4aae1-1\\xgboost\\xgboost-ci-windows\\src\\learner.cc:740: \n",
      "Parameters: { \"use_label_encoder\" } are not used.\n",
      "\n",
      "  warnings.warn(smsg, UserWarning)\n"
     ]
    },
    {
     "name": "stdout",
     "output_type": "stream",
     "text": [
      "Experiment 5 for Synthetic Data\n",
      "Running Synthetic Data - Experiment 5 - Fold 1...\n"
     ]
    },
    {
     "name": "stderr",
     "output_type": "stream",
     "text": [
      "c:\\Users\\junnu\\AppData\\Local\\Programs\\Python\\Python312\\Lib\\site-packages\\xgboost\\core.py:158: UserWarning: [19:28:42] WARNING: C:\\buildkite-agent\\builds\\buildkite-windows-cpu-autoscaling-group-i-08cbc0333d8d4aae1-1\\xgboost\\xgboost-ci-windows\\src\\learner.cc:740: \n",
      "Parameters: { \"use_label_encoder\" } are not used.\n",
      "\n",
      "  warnings.warn(smsg, UserWarning)\n"
     ]
    },
    {
     "name": "stdout",
     "output_type": "stream",
     "text": [
      "Running Synthetic Data - Experiment 5 - Fold 2...\n"
     ]
    },
    {
     "name": "stderr",
     "output_type": "stream",
     "text": [
      "c:\\Users\\junnu\\AppData\\Local\\Programs\\Python\\Python312\\Lib\\site-packages\\xgboost\\core.py:158: UserWarning: [19:28:47] WARNING: C:\\buildkite-agent\\builds\\buildkite-windows-cpu-autoscaling-group-i-08cbc0333d8d4aae1-1\\xgboost\\xgboost-ci-windows\\src\\learner.cc:740: \n",
      "Parameters: { \"use_label_encoder\" } are not used.\n",
      "\n",
      "  warnings.warn(smsg, UserWarning)\n"
     ]
    },
    {
     "name": "stdout",
     "output_type": "stream",
     "text": [
      "Running Synthetic Data - Experiment 5 - Fold 3...\n"
     ]
    },
    {
     "name": "stderr",
     "output_type": "stream",
     "text": [
      "c:\\Users\\junnu\\AppData\\Local\\Programs\\Python\\Python312\\Lib\\site-packages\\xgboost\\core.py:158: UserWarning: [19:28:51] WARNING: C:\\buildkite-agent\\builds\\buildkite-windows-cpu-autoscaling-group-i-08cbc0333d8d4aae1-1\\xgboost\\xgboost-ci-windows\\src\\learner.cc:740: \n",
      "Parameters: { \"use_label_encoder\" } are not used.\n",
      "\n",
      "  warnings.warn(smsg, UserWarning)\n"
     ]
    },
    {
     "name": "stdout",
     "output_type": "stream",
     "text": [
      "Running Synthetic Data - Experiment 5 - Fold 4...\n"
     ]
    },
    {
     "name": "stderr",
     "output_type": "stream",
     "text": [
      "c:\\Users\\junnu\\AppData\\Local\\Programs\\Python\\Python312\\Lib\\site-packages\\xgboost\\core.py:158: UserWarning: [19:28:55] WARNING: C:\\buildkite-agent\\builds\\buildkite-windows-cpu-autoscaling-group-i-08cbc0333d8d4aae1-1\\xgboost\\xgboost-ci-windows\\src\\learner.cc:740: \n",
      "Parameters: { \"use_label_encoder\" } are not used.\n",
      "\n",
      "  warnings.warn(smsg, UserWarning)\n"
     ]
    },
    {
     "name": "stdout",
     "output_type": "stream",
     "text": [
      "Running Synthetic Data - Experiment 5 - Fold 5...\n"
     ]
    },
    {
     "name": "stderr",
     "output_type": "stream",
     "text": [
      "c:\\Users\\junnu\\AppData\\Local\\Programs\\Python\\Python312\\Lib\\site-packages\\xgboost\\core.py:158: UserWarning: [19:28:59] WARNING: C:\\buildkite-agent\\builds\\buildkite-windows-cpu-autoscaling-group-i-08cbc0333d8d4aae1-1\\xgboost\\xgboost-ci-windows\\src\\learner.cc:740: \n",
      "Parameters: { \"use_label_encoder\" } are not used.\n",
      "\n",
      "  warnings.warn(smsg, UserWarning)\n"
     ]
    }
   ],
   "source": [
    "# Perform 5 experiments for real and synthetic data\n",
    "all_results = []\n",
    "for experiment in range(1, 6):\n",
    "    print(f\"Experiment {experiment} for Real Data\")\n",
    "    real_metrics = evaluate_model(X_real, y_real, f\"Real Data - Experiment {experiment}\")\n",
    "    all_results.extend(real_metrics)\n",
    "\n",
    "    print(f\"Experiment {experiment} for Synthetic Data\")\n",
    "    synthetic_metrics = evaluate_model(X_synthetic, y_synthetic, f\"Synthetic Data - Experiment {experiment}\")\n",
    "    all_results.extend(synthetic_metrics)\n"
   ]
  },
  {
   "cell_type": "code",
   "execution_count": 8,
   "id": "c9149388",
   "metadata": {},
   "outputs": [
    {
     "name": "stdout",
     "output_type": "stream",
     "text": [
      "                       Experiment  Fold  Accuracy  F1 Score    Recall  \\\n",
      "0        Real Data - Experiment 1     1  0.999491  0.846561  0.808081   \n",
      "1        Real Data - Experiment 1     2  0.999719  0.913043  0.848485   \n",
      "2        Real Data - Experiment 1     3  0.999579  0.872340  0.836735   \n",
      "3        Real Data - Experiment 1     4  0.999526  0.850829  0.785714   \n",
      "4        Real Data - Experiment 1     5  0.999438  0.833333  0.816327   \n",
      "5   Synthetic Data - Experiment 1     1  0.986723  0.986318  0.983893   \n",
      "6   Synthetic Data - Experiment 1     2  0.988764  0.988430  0.986735   \n",
      "7   Synthetic Data - Experiment 1     3  0.987294  0.986895  0.983667   \n",
      "8   Synthetic Data - Experiment 1     4  0.988216  0.987859  0.985653   \n",
      "9   Synthetic Data - Experiment 1     5  0.987360  0.986981  0.985067   \n",
      "10       Real Data - Experiment 2     1  0.999491  0.846561  0.808081   \n",
      "11       Real Data - Experiment 2     2  0.999719  0.913043  0.848485   \n",
      "12       Real Data - Experiment 2     3  0.999579  0.872340  0.836735   \n",
      "13       Real Data - Experiment 2     4  0.999526  0.850829  0.785714   \n",
      "14       Real Data - Experiment 2     5  0.999438  0.833333  0.816327   \n",
      "15  Synthetic Data - Experiment 2     1  0.986723  0.986318  0.983893   \n",
      "16  Synthetic Data - Experiment 2     2  0.988764  0.988430  0.986735   \n",
      "17  Synthetic Data - Experiment 2     3  0.987294  0.986895  0.983667   \n",
      "18  Synthetic Data - Experiment 2     4  0.988216  0.987859  0.985653   \n",
      "19  Synthetic Data - Experiment 2     5  0.987360  0.986981  0.985067   \n",
      "20       Real Data - Experiment 3     1  0.999491  0.846561  0.808081   \n",
      "21       Real Data - Experiment 3     2  0.999719  0.913043  0.848485   \n",
      "22       Real Data - Experiment 3     3  0.999579  0.872340  0.836735   \n",
      "23       Real Data - Experiment 3     4  0.999526  0.850829  0.785714   \n",
      "24       Real Data - Experiment 3     5  0.999438  0.833333  0.816327   \n",
      "25  Synthetic Data - Experiment 3     1  0.986723  0.986318  0.983893   \n",
      "26  Synthetic Data - Experiment 3     2  0.988764  0.988430  0.986735   \n",
      "27  Synthetic Data - Experiment 3     3  0.987294  0.986895  0.983667   \n",
      "28  Synthetic Data - Experiment 3     4  0.988216  0.987859  0.985653   \n",
      "29  Synthetic Data - Experiment 3     5  0.987360  0.986981  0.985067   \n",
      "30       Real Data - Experiment 4     1  0.999491  0.846561  0.808081   \n",
      "31       Real Data - Experiment 4     2  0.999719  0.913043  0.848485   \n",
      "32       Real Data - Experiment 4     3  0.999579  0.872340  0.836735   \n",
      "33       Real Data - Experiment 4     4  0.999526  0.850829  0.785714   \n",
      "34       Real Data - Experiment 4     5  0.999438  0.833333  0.816327   \n",
      "35  Synthetic Data - Experiment 4     1  0.986723  0.986318  0.983893   \n",
      "36  Synthetic Data - Experiment 4     2  0.988764  0.988430  0.986735   \n",
      "37  Synthetic Data - Experiment 4     3  0.987294  0.986895  0.983667   \n",
      "38  Synthetic Data - Experiment 4     4  0.988216  0.987859  0.985653   \n",
      "39  Synthetic Data - Experiment 4     5  0.987360  0.986981  0.985067   \n",
      "40       Real Data - Experiment 5     1  0.999491  0.846561  0.808081   \n",
      "41       Real Data - Experiment 5     2  0.999719  0.913043  0.848485   \n",
      "42       Real Data - Experiment 5     3  0.999579  0.872340  0.836735   \n",
      "43       Real Data - Experiment 5     4  0.999526  0.850829  0.785714   \n",
      "44       Real Data - Experiment 5     5  0.999438  0.833333  0.816327   \n",
      "45  Synthetic Data - Experiment 5     1  0.986723  0.986318  0.983893   \n",
      "46  Synthetic Data - Experiment 5     2  0.988764  0.988430  0.986735   \n",
      "47  Synthetic Data - Experiment 5     3  0.987294  0.986895  0.983667   \n",
      "48  Synthetic Data - Experiment 5     4  0.988216  0.987859  0.985653   \n",
      "49  Synthetic Data - Experiment 5     5  0.987360  0.986981  0.985067   \n",
      "\n",
      "    Precision   ROC-AUC  \n",
      "0    0.888889  0.980448  \n",
      "1    0.988235  0.976429  \n",
      "2    0.911111  0.994223  \n",
      "3    0.927711  0.969534  \n",
      "4    0.851064  0.977082  \n",
      "5    0.988755  0.999070  \n",
      "6    0.990130  0.999277  \n",
      "7    0.990145  0.999228  \n",
      "8    0.990075  0.999254  \n",
      "9    0.988903  0.999221  \n",
      "10   0.888889  0.980448  \n",
      "11   0.988235  0.976429  \n",
      "12   0.911111  0.994223  \n",
      "13   0.927711  0.969534  \n",
      "14   0.851064  0.977082  \n",
      "15   0.988755  0.999070  \n",
      "16   0.990130  0.999277  \n",
      "17   0.990145  0.999228  \n",
      "18   0.990075  0.999254  \n",
      "19   0.988903  0.999221  \n",
      "20   0.888889  0.980448  \n",
      "21   0.988235  0.976429  \n",
      "22   0.911111  0.994223  \n",
      "23   0.927711  0.969534  \n",
      "24   0.851064  0.977082  \n",
      "25   0.988755  0.999070  \n",
      "26   0.990130  0.999277  \n",
      "27   0.990145  0.999228  \n",
      "28   0.990075  0.999254  \n",
      "29   0.988903  0.999221  \n",
      "30   0.888889  0.980448  \n",
      "31   0.988235  0.976429  \n",
      "32   0.911111  0.994223  \n",
      "33   0.927711  0.969534  \n",
      "34   0.851064  0.977082  \n",
      "35   0.988755  0.999070  \n",
      "36   0.990130  0.999277  \n",
      "37   0.990145  0.999228  \n",
      "38   0.990075  0.999254  \n",
      "39   0.988903  0.999221  \n",
      "40   0.888889  0.980448  \n",
      "41   0.988235  0.976429  \n",
      "42   0.911111  0.994223  \n",
      "43   0.927711  0.969534  \n",
      "44   0.851064  0.977082  \n",
      "45   0.988755  0.999070  \n",
      "46   0.990130  0.999277  \n",
      "47   0.990145  0.999228  \n",
      "48   0.990075  0.999254  \n",
      "49   0.988903  0.999221  \n"
     ]
    }
   ],
   "source": [
    "# Convert results to a DataFrame\n",
    "results_df = pd.DataFrame(all_results)\n",
    "\n",
    "# Display results\n",
    "print(results_df)\n",
    "\n",
    "# Save results to a CSV file\n",
    "results_df.to_csv(\"xgboost_evaluation_results.csv\", index=False)"
   ]
  },
  {
   "cell_type": "code",
   "execution_count": 9,
   "id": "b567eb9a",
   "metadata": {},
   "outputs": [],
   "source": [
    "import pandas as pd\n",
    "import numpy as np\n",
    "from sklearn.model_selection import StratifiedKFold\n",
    "from xgboost import XGBClassifier\n",
    "from sklearn.metrics import accuracy_score, f1_score, recall_score, precision_score, roc_auc_score\n",
    "\n"
   ]
  },
  {
   "cell_type": "code",
   "execution_count": 10,
   "id": "fb3659b6",
   "metadata": {},
   "outputs": [],
   "source": [
    "# Load datasets\n",
    "real_data = pd.read_csv(\"creditcard.csv\")\n",
    "synthetic_data = pd.read_csv(\"smote_synthetic_data.csv\")\n",
    "\n",
    "# Split features and target for real data\n",
    "X_real = real_data.drop(columns=[\"Class\"])\n",
    "y_real = real_data[\"Class\"]\n",
    "\n",
    "# Split features and target for synthetic data\n",
    "X_synthetic = synthetic_data.drop(columns=[\"Class\"])\n",
    "y_synthetic = synthetic_data[\"Class\"]\n",
    "\n"
   ]
  },
  {
   "cell_type": "code",
   "execution_count": 11,
   "id": "35435483",
   "metadata": {},
   "outputs": [],
   "source": [
    "# Define XGBoost model evaluation function\n",
    "def evaluate_model(X, y, dataset_name):\n",
    "    skf = StratifiedKFold(n_splits=5, shuffle=True, random_state=42)\n",
    "    metrics = []\n",
    "\n",
    "    for fold, (train_idx, test_idx) in enumerate(skf.split(X, y), 1):\n",
    "        print(f\"Running {dataset_name} - Fold {fold}...\")\n",
    "        X_train, X_test = X.iloc[train_idx], X.iloc[test_idx]\n",
    "        y_train, y_test = y.iloc[train_idx], y.iloc[test_idx]\n",
    "\n",
    "        model = XGBClassifier(\n",
    "            scale_pos_weight=len(y_train[y_train == 0]) / len(y_train[y_train == 1]),\n",
    "            use_label_encoder=False,\n",
    "            eval_metric=\"logloss\",\n",
    "            random_state=42\n",
    "        )\n",
    "        model.fit(X_train, y_train)\n",
    "        y_pred = model.predict(X_test)\n",
    "        y_pred_proba = model.predict_proba(X_test)[:, 1]\n",
    "\n",
    "        # Calculate metrics\n",
    "        accuracy = accuracy_score(y_test, y_pred)\n",
    "        f1 = f1_score(y_test, y_pred)\n",
    "        recall = recall_score(y_test, y_pred)\n",
    "        precision = precision_score(y_test, y_pred)\n",
    "        roc_auc = roc_auc_score(y_test, y_pred_proba)\n",
    "\n",
    "        metrics.append({\n",
    "            \"Dataset\": dataset_name,\n",
    "            \"Fold\": fold,\n",
    "            \"Accuracy\": accuracy,\n",
    "            \"F1 Score\": f1,\n",
    "            \"Recall\": recall,\n",
    "            \"Precision\": precision,\n",
    "            \"ROC-AUC\": roc_auc\n",
    "        })\n",
    "\n",
    "    return metrics\n",
    "\n"
   ]
  },
  {
   "cell_type": "code",
   "execution_count": 12,
   "id": "325d55a9",
   "metadata": {},
   "outputs": [
    {
     "name": "stdout",
     "output_type": "stream",
     "text": [
      "Running Real Data - Fold 1...\n"
     ]
    },
    {
     "name": "stderr",
     "output_type": "stream",
     "text": [
      "c:\\Users\\junnu\\AppData\\Local\\Programs\\Python\\Python312\\Lib\\site-packages\\xgboost\\core.py:158: UserWarning: [19:35:39] WARNING: C:\\buildkite-agent\\builds\\buildkite-windows-cpu-autoscaling-group-i-08cbc0333d8d4aae1-1\\xgboost\\xgboost-ci-windows\\src\\learner.cc:740: \n",
      "Parameters: { \"use_label_encoder\" } are not used.\n",
      "\n",
      "  warnings.warn(smsg, UserWarning)\n"
     ]
    },
    {
     "name": "stdout",
     "output_type": "stream",
     "text": [
      "Running Real Data - Fold 2...\n"
     ]
    },
    {
     "name": "stderr",
     "output_type": "stream",
     "text": [
      "c:\\Users\\junnu\\AppData\\Local\\Programs\\Python\\Python312\\Lib\\site-packages\\xgboost\\core.py:158: UserWarning: [19:35:42] WARNING: C:\\buildkite-agent\\builds\\buildkite-windows-cpu-autoscaling-group-i-08cbc0333d8d4aae1-1\\xgboost\\xgboost-ci-windows\\src\\learner.cc:740: \n",
      "Parameters: { \"use_label_encoder\" } are not used.\n",
      "\n",
      "  warnings.warn(smsg, UserWarning)\n"
     ]
    },
    {
     "name": "stdout",
     "output_type": "stream",
     "text": [
      "Running Real Data - Fold 3...\n"
     ]
    },
    {
     "name": "stderr",
     "output_type": "stream",
     "text": [
      "c:\\Users\\junnu\\AppData\\Local\\Programs\\Python\\Python312\\Lib\\site-packages\\xgboost\\core.py:158: UserWarning: [19:35:44] WARNING: C:\\buildkite-agent\\builds\\buildkite-windows-cpu-autoscaling-group-i-08cbc0333d8d4aae1-1\\xgboost\\xgboost-ci-windows\\src\\learner.cc:740: \n",
      "Parameters: { \"use_label_encoder\" } are not used.\n",
      "\n",
      "  warnings.warn(smsg, UserWarning)\n"
     ]
    },
    {
     "name": "stdout",
     "output_type": "stream",
     "text": [
      "Running Real Data - Fold 4...\n"
     ]
    },
    {
     "name": "stderr",
     "output_type": "stream",
     "text": [
      "c:\\Users\\junnu\\AppData\\Local\\Programs\\Python\\Python312\\Lib\\site-packages\\xgboost\\core.py:158: UserWarning: [19:35:47] WARNING: C:\\buildkite-agent\\builds\\buildkite-windows-cpu-autoscaling-group-i-08cbc0333d8d4aae1-1\\xgboost\\xgboost-ci-windows\\src\\learner.cc:740: \n",
      "Parameters: { \"use_label_encoder\" } are not used.\n",
      "\n",
      "  warnings.warn(smsg, UserWarning)\n"
     ]
    },
    {
     "name": "stdout",
     "output_type": "stream",
     "text": [
      "Running Real Data - Fold 5...\n"
     ]
    },
    {
     "name": "stderr",
     "output_type": "stream",
     "text": [
      "c:\\Users\\junnu\\AppData\\Local\\Programs\\Python\\Python312\\Lib\\site-packages\\xgboost\\core.py:158: UserWarning: [19:35:50] WARNING: C:\\buildkite-agent\\builds\\buildkite-windows-cpu-autoscaling-group-i-08cbc0333d8d4aae1-1\\xgboost\\xgboost-ci-windows\\src\\learner.cc:740: \n",
      "Parameters: { \"use_label_encoder\" } are not used.\n",
      "\n",
      "  warnings.warn(smsg, UserWarning)\n"
     ]
    },
    {
     "name": "stdout",
     "output_type": "stream",
     "text": [
      "Running Synthetic Data - Fold 1...\n"
     ]
    },
    {
     "name": "stderr",
     "output_type": "stream",
     "text": [
      "c:\\Users\\junnu\\AppData\\Local\\Programs\\Python\\Python312\\Lib\\site-packages\\xgboost\\core.py:158: UserWarning: [19:35:53] WARNING: C:\\buildkite-agent\\builds\\buildkite-windows-cpu-autoscaling-group-i-08cbc0333d8d4aae1-1\\xgboost\\xgboost-ci-windows\\src\\learner.cc:740: \n",
      "Parameters: { \"use_label_encoder\" } are not used.\n",
      "\n",
      "  warnings.warn(smsg, UserWarning)\n"
     ]
    },
    {
     "name": "stdout",
     "output_type": "stream",
     "text": [
      "Running Synthetic Data - Fold 2...\n"
     ]
    },
    {
     "name": "stderr",
     "output_type": "stream",
     "text": [
      "c:\\Users\\junnu\\AppData\\Local\\Programs\\Python\\Python312\\Lib\\site-packages\\xgboost\\core.py:158: UserWarning: [19:35:55] WARNING: C:\\buildkite-agent\\builds\\buildkite-windows-cpu-autoscaling-group-i-08cbc0333d8d4aae1-1\\xgboost\\xgboost-ci-windows\\src\\learner.cc:740: \n",
      "Parameters: { \"use_label_encoder\" } are not used.\n",
      "\n",
      "  warnings.warn(smsg, UserWarning)\n"
     ]
    },
    {
     "name": "stdout",
     "output_type": "stream",
     "text": [
      "Running Synthetic Data - Fold 3...\n"
     ]
    },
    {
     "name": "stderr",
     "output_type": "stream",
     "text": [
      "c:\\Users\\junnu\\AppData\\Local\\Programs\\Python\\Python312\\Lib\\site-packages\\xgboost\\core.py:158: UserWarning: [19:35:58] WARNING: C:\\buildkite-agent\\builds\\buildkite-windows-cpu-autoscaling-group-i-08cbc0333d8d4aae1-1\\xgboost\\xgboost-ci-windows\\src\\learner.cc:740: \n",
      "Parameters: { \"use_label_encoder\" } are not used.\n",
      "\n",
      "  warnings.warn(smsg, UserWarning)\n"
     ]
    },
    {
     "name": "stdout",
     "output_type": "stream",
     "text": [
      "Running Synthetic Data - Fold 4...\n"
     ]
    },
    {
     "name": "stderr",
     "output_type": "stream",
     "text": [
      "c:\\Users\\junnu\\AppData\\Local\\Programs\\Python\\Python312\\Lib\\site-packages\\xgboost\\core.py:158: UserWarning: [19:36:01] WARNING: C:\\buildkite-agent\\builds\\buildkite-windows-cpu-autoscaling-group-i-08cbc0333d8d4aae1-1\\xgboost\\xgboost-ci-windows\\src\\learner.cc:740: \n",
      "Parameters: { \"use_label_encoder\" } are not used.\n",
      "\n",
      "  warnings.warn(smsg, UserWarning)\n"
     ]
    },
    {
     "name": "stdout",
     "output_type": "stream",
     "text": [
      "Running Synthetic Data - Fold 5...\n"
     ]
    },
    {
     "name": "stderr",
     "output_type": "stream",
     "text": [
      "c:\\Users\\junnu\\AppData\\Local\\Programs\\Python\\Python312\\Lib\\site-packages\\xgboost\\core.py:158: UserWarning: [19:36:03] WARNING: C:\\buildkite-agent\\builds\\buildkite-windows-cpu-autoscaling-group-i-08cbc0333d8d4aae1-1\\xgboost\\xgboost-ci-windows\\src\\learner.cc:740: \n",
      "Parameters: { \"use_label_encoder\" } are not used.\n",
      "\n",
      "  warnings.warn(smsg, UserWarning)\n"
     ]
    }
   ],
   "source": [
    "# Perform 5-fold cross-validation for real and synthetic data\n",
    "real_results = evaluate_model(X_real, y_real, \"Real Data\")\n",
    "synthetic_results = evaluate_model(X_synthetic, y_synthetic, \"Synthetic Data\")\n",
    "\n"
   ]
  },
  {
   "cell_type": "code",
   "execution_count": 13,
   "id": "8293795a",
   "metadata": {},
   "outputs": [
    {
     "name": "stdout",
     "output_type": "stream",
     "text": [
      "          Dataset  Fold  Accuracy  F1 Score    Recall  Precision   ROC-AUC\n",
      "0       Real Data     1  0.999491  0.846561  0.808081   0.888889  0.980448\n",
      "1       Real Data     2  0.999719  0.913043  0.848485   0.988235  0.976429\n",
      "2       Real Data     3  0.999579  0.872340  0.836735   0.911111  0.994223\n",
      "3       Real Data     4  0.999526  0.850829  0.785714   0.927711  0.969534\n",
      "4       Real Data     5  0.999438  0.833333  0.816327   0.851064  0.977082\n",
      "5  Synthetic Data     1  0.986723  0.986318  0.983893   0.988755  0.999070\n",
      "6  Synthetic Data     2  0.988764  0.988430  0.986735   0.990130  0.999277\n",
      "7  Synthetic Data     3  0.987294  0.986895  0.983667   0.990145  0.999228\n",
      "8  Synthetic Data     4  0.988216  0.987859  0.985653   0.990075  0.999254\n",
      "9  Synthetic Data     5  0.987360  0.986981  0.985067   0.988903  0.999221\n"
     ]
    }
   ],
   "source": [
    "# Combine results\n",
    "all_results = real_results + synthetic_results\n",
    "\n",
    "# Convert results to a DataFrame\n",
    "results_df = pd.DataFrame(all_results)\n",
    "\n",
    "# Display results in a tabular format\n",
    "print(results_df)\n",
    "\n",
    "# Save results to a CSV file\n",
    "results_df.to_csv(\"xgboost_5fold_results.csv\", index=False)"
   ]
  },
  {
   "cell_type": "code",
   "execution_count": 14,
   "id": "5f5ebd13",
   "metadata": {},
   "outputs": [],
   "source": [
    "import pandas as pd\n",
    "import numpy as np\n",
    "from sklearn.model_selection import StratifiedKFold\n",
    "from sklearn.ensemble import RandomForestClassifier\n",
    "from sklearn.metrics import accuracy_score, f1_score, recall_score, precision_score, roc_auc_score\n",
    "\n"
   ]
  },
  {
   "cell_type": "code",
   "execution_count": 15,
   "id": "59b13578",
   "metadata": {},
   "outputs": [],
   "source": [
    "# Load datasets\n",
    "real_data = pd.read_csv(\"creditcard.csv\")\n",
    "synthetic_data = pd.read_csv(\"smote_synthetic_data.csv\")\n",
    "\n",
    "# Split features and target for real data\n",
    "X_real = real_data.drop(columns=[\"Class\"])\n",
    "y_real = real_data[\"Class\"]\n",
    "\n",
    "# Split features and target for synthetic data\n",
    "X_synthetic = synthetic_data.drop(columns=[\"Class\"])\n",
    "y_synthetic = synthetic_data[\"Class\"]\n",
    "\n"
   ]
  },
  {
   "cell_type": "code",
   "execution_count": 16,
   "id": "45fe8ee4",
   "metadata": {},
   "outputs": [],
   "source": [
    "# Define Random Forest model evaluation function\n",
    "def evaluate_model(X, y, dataset_name):\n",
    "    skf = StratifiedKFold(n_splits=5, shuffle=True, random_state=42)\n",
    "    metrics = []\n",
    "\n",
    "    for fold, (train_idx, test_idx) in enumerate(skf.split(X, y), 1):\n",
    "        print(f\"Running {dataset_name} - Fold {fold}...\")\n",
    "        X_train, X_test = X.iloc[train_idx], X.iloc[test_idx]\n",
    "        y_train, y_test = y.iloc[train_idx], y.iloc[test_idx]\n",
    "\n",
    "        model = RandomForestClassifier(\n",
    "            class_weight=\"balanced\",  # Handle class imbalance\n",
    "            random_state=42\n",
    "        )\n",
    "        model.fit(X_train, y_train)\n",
    "        y_pred = model.predict(X_test)\n",
    "        y_pred_proba = model.predict_proba(X_test)[:, 1]\n",
    "\n",
    "        # Calculate metrics\n",
    "        accuracy = accuracy_score(y_test, y_pred)\n",
    "        f1 = f1_score(y_test, y_pred)\n",
    "        recall = recall_score(y_test, y_pred)\n",
    "        precision = precision_score(y_test, y_pred)\n",
    "        roc_auc = roc_auc_score(y_test, y_pred_proba)\n",
    "\n",
    "        metrics.append({\n",
    "            \"Dataset\": dataset_name,\n",
    "            \"Fold\": fold,\n",
    "            \"Accuracy\": accuracy,\n",
    "            \"F1 Score\": f1,\n",
    "            \"Recall\": recall,\n",
    "            \"Precision\": precision,\n",
    "            \"ROC-AUC\": roc_auc\n",
    "        })\n",
    "\n",
    "    return metrics\n",
    "\n"
   ]
  },
  {
   "cell_type": "code",
   "execution_count": 17,
   "id": "f892b91a",
   "metadata": {},
   "outputs": [
    {
     "name": "stdout",
     "output_type": "stream",
     "text": [
      "Running Real Data - Fold 1...\n",
      "Running Real Data - Fold 2...\n",
      "Running Real Data - Fold 3...\n",
      "Running Real Data - Fold 4...\n",
      "Running Real Data - Fold 5...\n",
      "Running Synthetic Data - Fold 1...\n",
      "Running Synthetic Data - Fold 2...\n",
      "Running Synthetic Data - Fold 3...\n",
      "Running Synthetic Data - Fold 4...\n",
      "Running Synthetic Data - Fold 5...\n"
     ]
    }
   ],
   "source": [
    "# Perform 5-fold cross-validation for real and synthetic data\n",
    "real_results = evaluate_model(X_real, y_real, \"Real Data\")\n",
    "synthetic_results = evaluate_model(X_synthetic, y_synthetic, \"Synthetic Data\")\n",
    "\n"
   ]
  },
  {
   "cell_type": "code",
   "execution_count": 18,
   "id": "8a68cca7",
   "metadata": {},
   "outputs": [
    {
     "name": "stdout",
     "output_type": "stream",
     "text": [
      "          Dataset  Fold  Accuracy  F1 Score    Recall  Precision   ROC-AUC\n",
      "0       Real Data     1  0.999456  0.824859  0.737374   0.935897  0.943023\n",
      "1       Real Data     2  0.999614  0.875000  0.777778   1.000000  0.958493\n",
      "2       Real Data     3  0.999614  0.876404  0.795918   0.975000  0.962728\n",
      "3       Real Data     4  0.999508  0.839080  0.744898   0.960526  0.942578\n",
      "4       Real Data     5  0.999491  0.839779  0.775510   0.915663  0.947355\n",
      "5  Synthetic Data     1  0.979679  0.978916  0.969906   0.988095  0.997605\n",
      "6  Synthetic Data     2  0.981237  0.980532  0.971485   0.989749  0.998041\n",
      "7  Synthetic Data     3  0.980842  0.980116  0.970763   0.989651  0.998128\n",
      "8  Synthetic Data     4  0.979635  0.978859  0.969276   0.988634  0.998148\n",
      "9  Synthetic Data     5  0.980096  0.979335  0.969637   0.989229  0.998063\n"
     ]
    }
   ],
   "source": [
    "# Combine results\n",
    "all_results = real_results + synthetic_results\n",
    "\n",
    "# Convert results to a DataFrame\n",
    "results_df = pd.DataFrame(all_results)\n",
    "\n",
    "# Display results in a tabular format\n",
    "print(results_df)\n",
    "\n",
    "# Save results to a CSV file\n",
    "results_df.to_csv(\"random_forest_5fold_results.csv\", index=False)"
   ]
  },
  {
   "cell_type": "code",
   "execution_count": 19,
   "id": "9af40a59",
   "metadata": {},
   "outputs": [],
   "source": [
    "# Import LightGBM\n",
    "from lightgbm import LGBMClassifier"
   ]
  },
  {
   "cell_type": "code",
   "execution_count": 20,
   "id": "63570e8d",
   "metadata": {},
   "outputs": [],
   "source": [
    "# Define LightGBM model evaluation function\n",
    "def evaluate_model_lightgbm(X, y, dataset_name):\n",
    "    skf = StratifiedKFold(n_splits=5, shuffle=True, random_state=42)\n",
    "    metrics = []\n",
    "\n",
    "    for fold, (train_idx, test_idx) in enumerate(skf.split(X, y), 1):\n",
    "        print(f\"Running {dataset_name} - Fold {fold}...\")\n",
    "        X_train, X_test = X.iloc[train_idx], X.iloc[test_idx]\n",
    "        y_train, y_test = y.iloc[train_idx], y.iloc[test_idx]\n",
    "\n",
    "        model = LGBMClassifier(\n",
    "            class_weight=\"balanced\",  # Handle class imbalance\n",
    "            random_state=42\n",
    "        )\n",
    "        model.fit(X_train, y_train)\n",
    "        y_pred = model.predict(X_test)\n",
    "        y_pred_proba = model.predict_proba(X_test)[:, 1]\n",
    "\n",
    "        # Calculate metrics\n",
    "        accuracy = accuracy_score(y_test, y_pred)\n",
    "        f1 = f1_score(y_test, y_pred)\n",
    "        recall = recall_score(y_test, y_pred)\n",
    "        precision = precision_score(y_test, y_pred)\n",
    "        roc_auc = roc_auc_score(y_test, y_pred_proba)\n",
    "\n",
    "        metrics.append({\n",
    "            \"Dataset\": dataset_name,\n",
    "            \"Fold\": fold,\n",
    "            \"Accuracy\": accuracy,\n",
    "            \"F1 Score\": f1,\n",
    "            \"Recall\": recall,\n",
    "            \"Precision\": precision,\n",
    "            \"ROC-AUC\": roc_auc\n",
    "        })\n",
    "\n",
    "    return metrics\n",
    "\n"
   ]
  },
  {
   "cell_type": "code",
   "execution_count": 22,
   "id": "091e3c1c",
   "metadata": {},
   "outputs": [
    {
     "name": "stdout",
     "output_type": "stream",
     "text": [
      "Running Real Data - Fold 1...\n",
      "[LightGBM] [Info] Number of positive: 393, number of negative: 227452\n",
      "[LightGBM] [Info] Auto-choosing col-wise multi-threading, the overhead of testing was 0.022551 seconds.\n",
      "You can set `force_col_wise=true` to remove the overhead.\n",
      "[LightGBM] [Info] Total Bins 7650\n",
      "[LightGBM] [Info] Number of data points in the train set: 227845, number of used features: 30\n",
      "[LightGBM] [Info] [binary:BoostFromScore]: pavg=0.500000 -> initscore=-0.000000\n",
      "[LightGBM] [Info] Start training from score -0.000000\n",
      "Running Real Data - Fold 2...\n",
      "[LightGBM] [Info] Number of positive: 393, number of negative: 227452\n",
      "[LightGBM] [Info] Auto-choosing col-wise multi-threading, the overhead of testing was 0.049374 seconds.\n",
      "You can set `force_col_wise=true` to remove the overhead.\n",
      "[LightGBM] [Info] Total Bins 7650\n",
      "[LightGBM] [Info] Number of data points in the train set: 227845, number of used features: 30\n",
      "[LightGBM] [Info] [binary:BoostFromScore]: pavg=0.500000 -> initscore=-0.000000\n",
      "[LightGBM] [Info] Start training from score -0.000000\n",
      "Running Real Data - Fold 3...\n",
      "[LightGBM] [Info] Number of positive: 394, number of negative: 227452\n",
      "[LightGBM] [Info] Auto-choosing col-wise multi-threading, the overhead of testing was 0.032203 seconds.\n",
      "You can set `force_col_wise=true` to remove the overhead.\n",
      "[LightGBM] [Info] Total Bins 7650\n",
      "[LightGBM] [Info] Number of data points in the train set: 227846, number of used features: 30\n",
      "[LightGBM] [Info] [binary:BoostFromScore]: pavg=0.500000 -> initscore=0.000000\n",
      "[LightGBM] [Info] Start training from score 0.000000\n",
      "Running Real Data - Fold 4...\n",
      "[LightGBM] [Info] Number of positive: 394, number of negative: 227452\n",
      "[LightGBM] [Info] Auto-choosing col-wise multi-threading, the overhead of testing was 0.039916 seconds.\n",
      "You can set `force_col_wise=true` to remove the overhead.\n",
      "[LightGBM] [Info] Total Bins 7650\n",
      "[LightGBM] [Info] Number of data points in the train set: 227846, number of used features: 30\n",
      "[LightGBM] [Info] [binary:BoostFromScore]: pavg=0.500000 -> initscore=0.000000\n",
      "[LightGBM] [Info] Start training from score 0.000000\n",
      "Running Real Data - Fold 5...\n",
      "[LightGBM] [Info] Number of positive: 394, number of negative: 227452\n",
      "[LightGBM] [Info] Auto-choosing col-wise multi-threading, the overhead of testing was 0.046739 seconds.\n",
      "You can set `force_col_wise=true` to remove the overhead.\n",
      "[LightGBM] [Info] Total Bins 7650\n",
      "[LightGBM] [Info] Number of data points in the train set: 227846, number of used features: 30\n",
      "[LightGBM] [Info] [binary:BoostFromScore]: pavg=0.500000 -> initscore=0.000000\n",
      "[LightGBM] [Info] Start training from score 0.000000\n",
      "Running Synthetic Data - Fold 1...\n",
      "[LightGBM] [Info] Number of positive: 88658, number of negative: 93618\n",
      "[LightGBM] [Info] Auto-choosing col-wise multi-threading, the overhead of testing was 0.033257 seconds.\n",
      "You can set `force_col_wise=true` to remove the overhead.\n",
      "[LightGBM] [Info] Total Bins 7650\n",
      "[LightGBM] [Info] Number of data points in the train set: 182276, number of used features: 30\n",
      "[LightGBM] [Info] [binary:BoostFromScore]: pavg=0.500000 -> initscore=0.000000\n",
      "[LightGBM] [Info] Start training from score 0.000000\n",
      "Running Synthetic Data - Fold 2...\n",
      "[LightGBM] [Info] Number of positive: 88658, number of negative: 93618\n",
      "[LightGBM] [Info] Auto-choosing col-wise multi-threading, the overhead of testing was 0.033283 seconds.\n",
      "You can set `force_col_wise=true` to remove the overhead.\n",
      "[LightGBM] [Info] Total Bins 7650\n",
      "[LightGBM] [Info] Number of data points in the train set: 182276, number of used features: 30\n",
      "[LightGBM] [Info] [binary:BoostFromScore]: pavg=0.500000 -> initscore=0.000000\n",
      "[LightGBM] [Info] Start training from score 0.000000\n",
      "Running Synthetic Data - Fold 3...\n",
      "[LightGBM] [Info] Number of positive: 88658, number of negative: 93618\n",
      "[LightGBM] [Info] Auto-choosing col-wise multi-threading, the overhead of testing was 0.031614 seconds.\n",
      "You can set `force_col_wise=true` to remove the overhead.\n",
      "[LightGBM] [Info] Total Bins 7650\n",
      "[LightGBM] [Info] Number of data points in the train set: 182276, number of used features: 30\n",
      "[LightGBM] [Info] [binary:BoostFromScore]: pavg=0.500000 -> initscore=0.000000\n",
      "[LightGBM] [Info] Start training from score 0.000000\n",
      "Running Synthetic Data - Fold 4...\n",
      "[LightGBM] [Info] Number of positive: 88657, number of negative: 93619\n",
      "[LightGBM] [Info] Auto-choosing col-wise multi-threading, the overhead of testing was 0.037435 seconds.\n",
      "You can set `force_col_wise=true` to remove the overhead.\n",
      "[LightGBM] [Info] Total Bins 7650\n",
      "[LightGBM] [Info] Number of data points in the train set: 182276, number of used features: 30\n",
      "[LightGBM] [Info] [binary:BoostFromScore]: pavg=0.500000 -> initscore=0.000000\n",
      "[LightGBM] [Info] Start training from score 0.000000\n",
      "Running Synthetic Data - Fold 5...\n",
      "[LightGBM] [Info] Number of positive: 88657, number of negative: 93619\n",
      "[LightGBM] [Info] Auto-choosing col-wise multi-threading, the overhead of testing was 0.033673 seconds.\n",
      "You can set `force_col_wise=true` to remove the overhead.\n",
      "[LightGBM] [Info] Total Bins 7650\n",
      "[LightGBM] [Info] Number of data points in the train set: 182276, number of used features: 30\n",
      "[LightGBM] [Info] [binary:BoostFromScore]: pavg=0.500000 -> initscore=0.000000\n",
      "[LightGBM] [Info] Start training from score 0.000000\n"
     ]
    }
   ],
   "source": [
    "# Perform 5-fold cross-validation for real and synthetic data using LightGBM\n",
    "real_results_lightgbm = evaluate_model_lightgbm(X_real, y_real, \"Real Data\")\n",
    "synthetic_results_lightgbm = evaluate_model_lightgbm(X_synthetic, y_synthetic, \"Synthetic Data\")\n",
    "\n"
   ]
  },
  {
   "cell_type": "code",
   "execution_count": 23,
   "id": "ad8148a9",
   "metadata": {},
   "outputs": [
    {
     "name": "stdout",
     "output_type": "stream",
     "text": [
      "          Dataset  Fold  Accuracy  F1 Score    Recall  Precision   ROC-AUC\n",
      "0       Real Data     1  0.999280  0.791878  0.787879   0.795918  0.951359\n",
      "1       Real Data     2  0.999491  0.852792  0.848485   0.857143  0.964549\n",
      "2       Real Data     3  0.999526  0.860104  0.846939   0.873684  0.990796\n",
      "3       Real Data     4  0.999386  0.822335  0.826531   0.818182  0.965546\n",
      "4       Real Data     5  0.999350  0.812183  0.816327   0.808081  0.970747\n",
      "5  Synthetic Data     1  0.985012  0.984534  0.980825   0.988271  0.998825\n",
      "6  Synthetic Data     2  0.986219  0.985786  0.982539   0.989054  0.999017\n",
      "7  Synthetic Data     3  0.985319  0.984852  0.981231   0.988501  0.998962\n",
      "8  Synthetic Data     4  0.985692  0.985227  0.980916   0.989577  0.999092\n",
      "9  Synthetic Data     5  0.985495  0.985032  0.981277   0.988816  0.998948\n"
     ]
    }
   ],
   "source": [
    "# Combine results\n",
    "all_results_lightgbm = real_results_lightgbm + synthetic_results_lightgbm\n",
    "\n",
    "# Convert results to a DataFrame\n",
    "results_df_lightgbm = pd.DataFrame(all_results_lightgbm)\n",
    "\n",
    "# Display results in a tabular format\n",
    "print(results_df_lightgbm)\n",
    "\n",
    "# Save results to a CSV file\n",
    "results_df_lightgbm.to_csv(\"lightgbm_5fold_results.csv\", index=False)"
   ]
  },
  {
   "cell_type": "code",
   "execution_count": 24,
   "id": "9784fe40",
   "metadata": {},
   "outputs": [],
   "source": [
    "# Import Gradient Boosting\n",
    "from sklearn.ensemble import GradientBoostingClassifier"
   ]
  },
  {
   "cell_type": "code",
   "execution_count": 25,
   "id": "4e5ce25e",
   "metadata": {},
   "outputs": [],
   "source": [
    "# Define Gradient Boosting model evaluation function\n",
    "def evaluate_model_gradient_boosting(X, y, dataset_name):\n",
    "    skf = StratifiedKFold(n_splits=5, shuffle=True, random_state=42)\n",
    "    metrics = []\n",
    "\n",
    "    for fold, (train_idx, test_idx) in enumerate(skf.split(X, y), 1):\n",
    "        print(f\"Running {dataset_name} - Fold {fold}...\")\n",
    "        X_train, X_test = X.iloc[train_idx], X.iloc[test_idx]\n",
    "        y_train, y_test = y.iloc[train_idx], y.iloc[test_idx]\n",
    "\n",
    "        model = GradientBoostingClassifier(\n",
    "            random_state=42\n",
    "        )\n",
    "        model.fit(X_train, y_train)\n",
    "        y_pred = model.predict(X_test)\n",
    "        y_pred_proba = model.predict_proba(X_test)[:, 1]\n",
    "\n",
    "        # Calculate metrics\n",
    "        accuracy = accuracy_score(y_test, y_pred)\n",
    "        f1 = f1_score(y_test, y_pred)\n",
    "        recall = recall_score(y_test, y_pred)\n",
    "        precision = precision_score(y_test, y_pred)\n",
    "        roc_auc = roc_auc_score(y_test, y_pred_proba)\n",
    "\n",
    "        metrics.append({\n",
    "            \"Dataset\": dataset_name,\n",
    "            \"Fold\": fold,\n",
    "            \"Accuracy\": accuracy,\n",
    "            \"F1 Score\": f1,\n",
    "            \"Recall\": recall,\n",
    "            \"Precision\": precision,\n",
    "            \"ROC-AUC\": roc_auc\n",
    "        })\n",
    "\n",
    "    return metrics\n"
   ]
  },
  {
   "cell_type": "code",
   "execution_count": 26,
   "id": "cc327e6a",
   "metadata": {},
   "outputs": [
    {
     "name": "stdout",
     "output_type": "stream",
     "text": [
      "Running Real Data - Fold 1...\n",
      "Running Real Data - Fold 2...\n",
      "Running Real Data - Fold 3...\n",
      "Running Real Data - Fold 4...\n",
      "Running Real Data - Fold 5...\n",
      "Running Synthetic Data - Fold 1...\n",
      "Running Synthetic Data - Fold 2...\n",
      "Running Synthetic Data - Fold 3...\n",
      "Running Synthetic Data - Fold 4...\n",
      "Running Synthetic Data - Fold 5...\n"
     ]
    }
   ],
   "source": [
    "# Perform 5-fold cross-validation for real and synthetic data using Gradient Boosting\n",
    "real_results_gb = evaluate_model_gradient_boosting(X_real, y_real, \"Real Data\")\n",
    "synthetic_results_gb = evaluate_model_gradient_boosting(X_synthetic, y_synthetic, \"Synthetic Data\")\n"
   ]
  },
  {
   "cell_type": "code",
   "execution_count": 28,
   "id": "1bde7fd4",
   "metadata": {},
   "outputs": [
    {
     "name": "stdout",
     "output_type": "stream",
     "text": [
      "          Dataset  Fold  Accuracy  F1 Score    Recall  Precision   ROC-AUC\n",
      "0       Real Data     1  0.999052  0.703297  0.646465   0.771084  0.828070\n",
      "1       Real Data     2  0.999052  0.712766  0.676768   0.752809  0.843105\n",
      "2       Real Data     3  0.999350  0.808290  0.795918   0.821053  0.941922\n",
      "3       Real Data     4  0.999175  0.734463  0.663265   0.822785  0.795746\n",
      "4       Real Data     5  0.998490  0.348485  0.234694   0.676471  0.390827\n",
      "5  Synthetic Data     1  0.977924  0.977109  0.968733   0.985632  0.997873\n",
      "6  Synthetic Data     2  0.980381  0.979664  0.971576   0.987889  0.998246\n",
      "7  Synthetic Data     3  0.979526  0.978763  0.970042   0.987643  0.998108\n",
      "8  Synthetic Data     4  0.978999  0.978212  0.969231   0.987361  0.998320\n",
      "9  Synthetic Data     5  0.979745  0.978999  0.970629   0.987515  0.998231\n"
     ]
    }
   ],
   "source": [
    "# Combine results\n",
    "all_results_gb = real_results_gb + synthetic_results_gb\n",
    "\n",
    "# Convert results to a DataFrame\n",
    "results_df_gb = pd.DataFrame(all_results_gb)\n",
    "\n",
    "# Display results in a tabular format\n",
    "print(results_df_gb)\n",
    "\n",
    "# Save results to a CSV file\n",
    "results_df_gb.to_csv(\"gradient_boosting_5fold_results.csv\", index=False)"
   ]
  },
  {
   "cell_type": "code",
   "execution_count": 7,
   "id": "29db97c0",
   "metadata": {},
   "outputs": [
    {
     "name": "stdout",
     "output_type": "stream",
     "text": [
      "Paired t-tests for F1 Score (Real vs Synthetic):\n",
      "XGBoost: 0.0008219474530923674\n",
      "LightGBM: 0.0002369557697773966\n",
      "Random Forest: 0.00022060692445166882\n",
      "Gradient Boosting: 0.016951867843909053\n",
      "\n",
      "Paired t-tests for Recall (Real vs Synthetic):\n",
      "XGBoost: 0.00010974704075771666\n",
      "LightGBM: 0.00014082157444126128\n",
      "Random Forest: 4.438980820911954e-05\n",
      "Gradient Boosting: 0.018783706873946652\n"
     ]
    }
   ],
   "source": [
    "import pandas as pd\n",
    "from scipy.stats import ttest_rel\n",
    "\n",
    "# Load results for all models\n",
    "xgboost_results = pd.read_csv(\"xgboost_5fold_results.csv\")\n",
    "lightgbm_results = pd.read_csv(\"lightgbm_5fold_results.csv\")\n",
    "random_forest_results = pd.read_csv(\"random_forest_5fold_results.csv\")\n",
    "gradient_boosting_results = pd.read_csv(\"gradient_boosting_5fold_results.csv\")\n",
    "\n",
    "# Extract F1 Score and Recall for real and synthetic datasets\n",
    "# Real: First 5 rows, Synthetic: Last 5 rows\n",
    "xgboost_f1_real = xgboost_results[\"F1 Score\"][:5]\n",
    "xgboost_f1_synthetic = xgboost_results[\"F1 Score\"][5:]\n",
    "xgboost_recall_real = xgboost_results[\"Recall\"][:5]\n",
    "xgboost_recall_synthetic = xgboost_results[\"Recall\"][5:]\n",
    "\n",
    "lightgbm_f1_real = lightgbm_results[\"F1 Score\"][:5]\n",
    "lightgbm_f1_synthetic = lightgbm_results[\"F1 Score\"][5:]\n",
    "lightgbm_recall_real = lightgbm_results[\"Recall\"][:5]\n",
    "lightgbm_recall_synthetic = lightgbm_results[\"Recall\"][5:]\n",
    "\n",
    "random_forest_f1_real = random_forest_results[\"F1 Score\"][:5]\n",
    "random_forest_f1_synthetic = random_forest_results[\"F1 Score\"][5:]\n",
    "random_forest_recall_real = random_forest_results[\"Recall\"][:5]\n",
    "random_forest_recall_synthetic = random_forest_results[\"Recall\"][5:]\n",
    "\n",
    "gradient_boosting_f1_real = gradient_boosting_results[\"F1 Score\"][:5]\n",
    "gradient_boosting_f1_synthetic = gradient_boosting_results[\"F1 Score\"][5:]\n",
    "gradient_boosting_recall_real = gradient_boosting_results[\"Recall\"][:5]\n",
    "gradient_boosting_recall_synthetic = gradient_boosting_results[\"Recall\"][5:]\n",
    "\n",
    "# Perform paired t-tests for F1 Score\n",
    "print(\"Paired t-tests for F1 Score (Real vs Synthetic):\")\n",
    "print(\"XGBoost:\", ttest_rel(xgboost_f1_real, xgboost_f1_synthetic).pvalue)\n",
    "print(\"LightGBM:\", ttest_rel(lightgbm_f1_real, lightgbm_f1_synthetic).pvalue)\n",
    "print(\"Random Forest:\", ttest_rel(random_forest_f1_real, random_forest_f1_synthetic).pvalue)\n",
    "print(\"Gradient Boosting:\", ttest_rel(gradient_boosting_f1_real, gradient_boosting_f1_synthetic).pvalue)\n",
    "\n",
    "# Perform paired t-tests for Recall\n",
    "print(\"\\nPaired t-tests for Recall (Real vs Synthetic):\")\n",
    "print(\"XGBoost:\", ttest_rel(xgboost_recall_real, xgboost_recall_synthetic).pvalue)\n",
    "print(\"LightGBM:\", ttest_rel(lightgbm_recall_real, lightgbm_recall_synthetic).pvalue)\n",
    "print(\"Random Forest:\", ttest_rel(random_forest_recall_real, random_forest_recall_synthetic).pvalue)\n",
    "print(\"Gradient Boosting:\", ttest_rel(gradient_boosting_recall_real, gradient_boosting_recall_synthetic).pvalue)"
   ]
  },
  {
   "cell_type": "code",
   "execution_count": 8,
   "id": "af29b190",
   "metadata": {},
   "outputs": [
    {
     "name": "stdout",
     "output_type": "stream",
     "text": [
      "ANOVA Results for F1 Score:\n",
      "F-statistic: 14.8873, p-value: 0.0083777219\n",
      "\n",
      "ANOVA Results for Recall:\n",
      "F-statistic: 18.4949, p-value: 0.0050896162\n"
     ]
    }
   ],
   "source": [
    "import pandas as pd\n",
    "from scipy.stats import f_oneway\n",
    "\n",
    "# Load results for all models\n",
    "xgboost_results = pd.read_csv(\"xgboost_5fold_results.csv\")\n",
    "lightgbm_results = pd.read_csv(\"lightgbm_5fold_results.csv\")\n",
    "random_forest_results = pd.read_csv(\"random_forest_5fold_results.csv\")\n",
    "gradient_boosting_results = pd.read_csv(\"gradient_boosting_5fold_results.csv\")\n",
    "\n",
    "# Aggregate metrics (mean F1 Score and Recall) for real and synthetic datasets\n",
    "data = {\n",
    "    \"Model\": [\"XGBoost\", \"LightGBM\", \"Random Forest\", \"Gradient Boosting\"],\n",
    "    \"F1 Score (Real)\": [\n",
    "        xgboost_results[\"F1 Score\"][:5].mean(),\n",
    "        lightgbm_results[\"F1 Score\"][:5].mean(),\n",
    "        random_forest_results[\"F1 Score\"][:5].mean(),\n",
    "        gradient_boosting_results[\"F1 Score\"][:5].mean()\n",
    "    ],\n",
    "    \"F1 Score (Synthetic)\": [\n",
    "        xgboost_results[\"F1 Score\"][5:].mean(),\n",
    "        lightgbm_results[\"F1 Score\"][5:].mean(),\n",
    "        random_forest_results[\"F1 Score\"][5:].mean(),\n",
    "        gradient_boosting_results[\"F1 Score\"][5:].mean()\n",
    "    ],\n",
    "    \"Recall (Real)\": [\n",
    "        xgboost_results[\"Recall\"][:5].mean(),\n",
    "        lightgbm_results[\"Recall\"][:5].mean(),\n",
    "        random_forest_results[\"Recall\"][:5].mean(),\n",
    "        gradient_boosting_results[\"Recall\"][:5].mean()\n",
    "    ],\n",
    "    \"Recall (Synthetic)\": [\n",
    "        xgboost_results[\"Recall\"][5:].mean(),\n",
    "        lightgbm_results[\"Recall\"][5:].mean(),\n",
    "        random_forest_results[\"Recall\"][5:].mean(),\n",
    "        gradient_boosting_results[\"Recall\"][5:].mean()\n",
    "    ]\n",
    "}\n",
    "\n",
    "# Convert to DataFrame\n",
    "aggregated_data = pd.DataFrame(data)\n",
    "\n",
    "# Perform ANOVA for F1 Score\n",
    "f1_real = aggregated_data[\"F1 Score (Real)\"]\n",
    "f1_synthetic = aggregated_data[\"F1 Score (Synthetic)\"]\n",
    "anova_f1 = f_oneway(f1_real, f1_synthetic)\n",
    "\n",
    "# Perform ANOVA for Recall\n",
    "recall_real = aggregated_data[\"Recall (Real)\"]\n",
    "recall_synthetic = aggregated_data[\"Recall (Synthetic)\"]\n",
    "anova_recall = f_oneway(recall_real, recall_synthetic)\n",
    "\n",
    "# Print results\n",
    "print(\"ANOVA Results for F1 Score:\")\n",
    "print(f\"F-statistic: {anova_f1.statistic:.4f}, p-value: {anova_f1.pvalue:.10f}\")\n",
    "\n",
    "print(\"\\nANOVA Results for Recall:\")\n",
    "print(f\"F-statistic: {anova_recall.statistic:.4f}, p-value: {anova_recall.pvalue:.10f}\")"
   ]
  },
  {
   "cell_type": "code",
   "execution_count": null,
   "id": "c9499383",
   "metadata": {},
   "outputs": [],
   "source": []
  }
 ],
 "metadata": {
  "kernelspec": {
   "display_name": "Python 3",
   "language": "python",
   "name": "python3"
  },
  "language_info": {
   "codemirror_mode": {
    "name": "ipython",
    "version": 3
   },
   "file_extension": ".py",
   "mimetype": "text/x-python",
   "name": "python",
   "nbconvert_exporter": "python",
   "pygments_lexer": "ipython3",
   "version": "3.12.0"
  }
 },
 "nbformat": 4,
 "nbformat_minor": 5
}
